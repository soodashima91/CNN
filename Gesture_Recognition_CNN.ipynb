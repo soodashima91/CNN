{
 "cells": [
  {
   "cell_type": "markdown",
   "metadata": {
    "id": "PQxoBRbGZKUj"
   },
   "source": [
    "# Gesture Recognition\n",
    "In this group project, you are going to build a 3D Conv model that will be able to predict the 5 gestures correctly. Please import the following libraries to get started."
   ]
  },
  {
   "cell_type": "code",
   "execution_count": 1,
   "metadata": {
    "colab": {
     "base_uri": "https://localhost:8080/"
    },
    "id": "1vCNI5dRrbC0",
    "outputId": "04e225d2-f91f-48a1-9fac-a64375a6e987"
   },
   "outputs": [
    {
     "name": "stdout",
     "output_type": "stream",
     "text": [
      "Mounted at /content/drive/\n"
     ]
    }
   ],
   "source": [
    "from google.colab import drive\n",
    "drive.mount('/content/drive/')"
   ]
  },
  {
   "cell_type": "code",
   "execution_count": 2,
   "metadata": {
    "colab": {
     "base_uri": "https://localhost:8080/"
    },
    "id": "aQX0EUzardYb",
    "outputId": "ccf159a6-15e0-4964-ed4c-18eb7e8165d0"
   },
   "outputs": [
    {
     "name": "stdout",
     "output_type": "stream",
     "text": [
      "Done\n"
     ]
    }
   ],
   "source": [
    "import os\n",
    "from os import getcwd\n",
    "#Getting the dataset from the drive\n",
    "path_dataset = f\"{getcwd()}/../content/drive/My Drive/upgrad_datasets/Project_data.zip\"\n",
    "\n",
    "#UnZipping the File\n",
    "from zipfile import ZipFile\n",
    "file_name = path_dataset\n",
    "\n",
    "with ZipFile(file_name,'r') as zip:\n",
    "  zip.extractall()\n",
    "  print('Done')"
   ]
  },
  {
   "cell_type": "code",
   "execution_count": 3,
   "metadata": {
    "colab": {
     "base_uri": "https://localhost:8080/"
    },
    "id": "F9ZZec30smwD",
    "outputId": "7b78b4c7-c444-44d1-cf6c-41395e4ed016"
   },
   "outputs": [
    {
     "name": "stdout",
     "output_type": "stream",
     "text": [
      "Collecting scipy==1.1.0\n",
      "  Downloading scipy-1.1.0-cp37-cp37m-manylinux1_x86_64.whl (31.2 MB)\n",
      "\u001b[K     |████████████████████████████████| 31.2 MB 53 kB/s \n",
      "\u001b[?25hRequirement already satisfied: numpy>=1.8.2 in /usr/local/lib/python3.7/dist-packages (from scipy==1.1.0) (1.19.5)\n",
      "Installing collected packages: scipy\n",
      "  Attempting uninstall: scipy\n",
      "    Found existing installation: scipy 1.4.1\n",
      "    Uninstalling scipy-1.4.1:\n",
      "      Successfully uninstalled scipy-1.4.1\n",
      "\u001b[31mERROR: pip's dependency resolver does not currently take into account all the packages that are installed. This behaviour is the source of the following dependency conflicts.\n",
      "pymc3 3.11.4 requires scipy>=1.2.0, but you have scipy 1.1.0 which is incompatible.\n",
      "plotnine 0.6.0 requires scipy>=1.2.0, but you have scipy 1.1.0 which is incompatible.\n",
      "jax 0.2.21 requires scipy>=1.2.1, but you have scipy 1.1.0 which is incompatible.\n",
      "albumentations 0.1.12 requires imgaug<0.2.7,>=0.2.5, but you have imgaug 0.2.9 which is incompatible.\u001b[0m\n",
      "Successfully installed scipy-1.1.0\n"
     ]
    }
   ],
   "source": [
    "!pip install scipy==1.1.0"
   ]
  },
  {
   "cell_type": "code",
   "execution_count": 4,
   "metadata": {
    "id": "igDAFbW2sd3c"
   },
   "outputs": [],
   "source": [
    "import warnings\n",
    "warnings.filterwarnings('ignore')"
   ]
  },
  {
   "cell_type": "code",
   "execution_count": 5,
   "metadata": {
    "id": "IrR2vNQMZKUr"
   },
   "outputs": [],
   "source": [
    "import numpy as np\n",
    "import os\n",
    "from scipy.misc import imread, imresize\n",
    "import datetime\n",
    "import os"
   ]
  },
  {
   "cell_type": "code",
   "execution_count": 6,
   "metadata": {
    "id": "Rj2qOKOCPQzF"
   },
   "outputs": [],
   "source": [
    "import tensorflow as tf"
   ]
  },
  {
   "cell_type": "code",
   "execution_count": 7,
   "metadata": {
    "colab": {
     "base_uri": "https://localhost:8080/",
     "height": 35
    },
    "id": "TYOF5WpTerDh",
    "outputId": "3b210ac4-abb9-4eb7-ec3e-02c6e6def220"
   },
   "outputs": [
    {
     "data": {
      "application/vnd.google.colaboratory.intrinsic+json": {
       "type": "string"
      },
      "text/plain": [
       "'\\n%tensorflow_version 1.5.0\\nimport tensorflow.compat.v1 as tf\\nprint(tf.__version__)\\n'"
      ]
     },
     "execution_count": 7,
     "metadata": {},
     "output_type": "execute_result"
    }
   ],
   "source": [
    "'''\n",
    "%tensorflow_version 1.5.0\n",
    "import tensorflow.compat.v1 as tf\n",
    "print(tf.__version__)\n",
    "'''"
   ]
  },
  {
   "cell_type": "markdown",
   "metadata": {
    "id": "qo9F68ekZKUt"
   },
   "source": [
    "We set the random seed so that the results don't vary drastically."
   ]
  },
  {
   "cell_type": "code",
   "execution_count": 8,
   "metadata": {
    "id": "YzJhfMCJZKUu"
   },
   "outputs": [],
   "source": [
    "import numpy as np\n",
    "np.random.seed(30)\n",
    "import random as rn\n",
    "rn.seed(30)\n",
    "from keras import backend as K\n",
    "tf.random.set_seed(30)"
   ]
  },
  {
   "cell_type": "markdown",
   "metadata": {
    "id": "tMmaAEINZKUv"
   },
   "source": [
    "In this block, you read the folder names for training and validation. You also set the `batch_size` here. Note that you set the batch size in such a way that you are able to use the GPU in full capacity. You keep increasing the batch size until the machine throws an error."
   ]
  },
  {
   "cell_type": "code",
   "execution_count": 9,
   "metadata": {
    "id": "FI_4lk-mZKUv"
   },
   "outputs": [],
   "source": [
    "train_doc = np.random.permutation(open('/content/Project_data/train.csv').readlines())\n",
    "val_doc = np.random.permutation(open('/content/Project_data/val.csv').readlines())\n",
    "batch_size = 32"
   ]
  },
  {
   "cell_type": "code",
   "execution_count": 10,
   "metadata": {
    "id": "svqQLQNmt621"
   },
   "outputs": [],
   "source": [
    "#Resize for 3D models\n",
    "def crop_resize_img(img):\n",
    "  if img.shape[1]==160:\n",
    "    img = img[:120, 20:140]\n",
    "  resized_image = imresize(img,(120,120,3)).astype(np.float32) #for conv3D\n",
    "  #resized_image = imresize(img,(120,120)).astype(np.float32)  #for conv2D\n",
    "  return resized_image"
   ]
  },
  {
   "cell_type": "code",
   "execution_count": 11,
   "metadata": {
    "id": "efD25hYNWLOT"
   },
   "outputs": [],
   "source": [
    "y = 120   \n",
    "z = 120   # (y,z) is the final size of the input images \n",
    "channel = 3  # number of \n",
    "channels in images 3 for color(RGB)\n",
    "x=18         # x is the number of images you use for each video"
   ]
  },
  {
   "cell_type": "markdown",
   "metadata": {
    "id": "zXF2WuARZKUw"
   },
   "source": [
    "## Generator\n",
    "This is one of the most important part of the code. The overall structure of the generator has been given. In the generator, you are going to preprocess the images as you have images of 2 different dimensions as well as create a batch of video frames. You have to experiment with `img_idx`, `y`,`z` and normalization such that you get high accuracy."
   ]
  },
  {
   "cell_type": "code",
   "execution_count": 12,
   "metadata": {
    "id": "oHpsl9cpZKUx"
   },
   "outputs": [],
   "source": [
    "def generator(source_path, folder_list, batch_size):\n",
    "    print( 'Source path = ', source_path, '; batch size =', batch_size)\n",
    "    img_idx = np.round(np.linspace(0,29,18)).astype(int) #create a list of image numbers you want to use for a particular video\n",
    "    while True:\n",
    "        t = np.random.permutation(folder_list)\n",
    "        num_batches = len(t)//batch_size # calculate the number of batches\n",
    "        for batch in range(num_batches): # we iterate over the number of batches\n",
    "            batch_data = np.zeros((batch_size,x,y,z,3)) # x is the number of images you use for each video, (y,z) is the final size of the input images and 3 is the number of channels RGB\n",
    "            batch_labels = np.zeros((batch_size,5)) # batch_labels is the one hot representation of the output\n",
    "            for folder in range(batch_size): # iterate over the batch_size\n",
    "                imgs = os.listdir(source_path+'/'+ t[folder + (batch*batch_size)].split(';')[0]) # read all the images in the folder\n",
    "                for idx,item in enumerate(img_idx): #  Iterate iver the frames/images of a folder to read them in\n",
    "                    image = imread(source_path+'/'+ t[folder + (batch*batch_size)].strip().split(';')[0]+'/'+imgs[item]).astype(np.float32)\n",
    "                    \n",
    "                    #crop the images and resize them. Note that the images are of 2 different shape \n",
    "                    #and the conv3D will throw error if the inputs in a batch have different shapes\n",
    "                    crop_resize_image = crop_resize_img(image)\n",
    "                    \n",
    "                    batch_data[folder,idx,:,:,0] = crop_resize_image[:, : , 0]/255    #normalise and feed in the image\n",
    "                    batch_data[folder,idx,:,:,1] = crop_resize_image[:, : , 1]/255   #normalise and feed in the image\n",
    "                    batch_data[folder,idx,:,:,2] = crop_resize_image[:, : , 2]/255   #normalise and feed in the image\n",
    "                    \n",
    "                batch_labels[folder, int(t[folder + (batch*batch_size)].strip().split(';')[2])] = 1\n",
    "            yield batch_data, batch_labels #you yield the batch_data and the batch_labels, remember what does yield do\n",
    "\n",
    "        \n",
    "        # write the code for the remaining data points which are left after full batches\n",
    "        if(len(t)%batch_size != 0):\n",
    "          batch_size = len(t)%batch_size\n",
    "          batch_data = np.zeros((batch_size,x,y,z,3)) # x is the number of images you use for each video, (y,z) is the final size of the input images and 3 is the number of channels RGB\n",
    "          batch_labels = np.zeros((batch_size,5)) # batch_labels is the one hot representation of the output\n",
    "          for folder in range(batch_size): # iterate over the batch_size\n",
    "              imgs = os.listdir(source_path+'/'+ t[folder + (batch*batch_size)].split(';')[0]) # read all the images in the folder\n",
    "              for idx,item in enumerate(img_idx): #  Iterate iver the frames/images of a folder to read them in\n",
    "                  image = imread(source_path+'/'+ t[folder + (batch*batch_size)].strip().split(';')[0]+'/'+imgs[item]).astype(np.float32)\n",
    "                      \n",
    "                      #crop the images and resize them. Note that the images are of 2 different shape \n",
    "                      #and the conv3D will throw error if the inputs in a batch have different shapes\n",
    "                  crop_resize_image = crop_resize_img(image)\n",
    "                      \n",
    "                  batch_data[folder,idx,:,:,0] = crop_resize_image[:, : , 0]/255   #normalise and feed in the image\n",
    "                  batch_data[folder,idx,:,:,1] = crop_resize_image[:, : , 1]/255   #normalise and feed in the image\n",
    "                  batch_data[folder,idx,:,:,2] = crop_resize_image[:, : , 2]/255   #normalise and feed in the image\n",
    "\n",
    "              batch_labels[folder, int(t[folder + (batch*batch_size)].strip().split(';')[2])] = 1\n",
    "          yield batch_data, batch_labels #you yield the batch_data and the batch_labels, remember\n",
    "                    \n",
    "                   "
   ]
  },
  {
   "cell_type": "markdown",
   "metadata": {
    "id": "kGbBxUbmZKUz"
   },
   "source": [
    "Note here that a video is represented above in the generator as (number of images, height, width, number of channels). Take this into consideration while creating the model architecture."
   ]
  },
  {
   "cell_type": "code",
   "execution_count": 13,
   "metadata": {
    "colab": {
     "base_uri": "https://localhost:8080/"
    },
    "id": "3Z0QOaX7ZKU1",
    "outputId": "aa921c54-0d83-4c8a-d263-2c1b3dba4aa7"
   },
   "outputs": [
    {
     "name": "stdout",
     "output_type": "stream",
     "text": [
      "# training sequences = 663\n",
      "# validation sequences = 100\n",
      "# epochs = 30\n"
     ]
    }
   ],
   "source": [
    "curr_dt_time = datetime.datetime.now()\n",
    "train_path = '/content/Project_data/train'\n",
    "val_path = '/content/Project_data/val'\n",
    "num_train_sequences = len(train_doc)\n",
    "print('# training sequences =', num_train_sequences)\n",
    "num_val_sequences = len(val_doc)\n",
    "print('# validation sequences =', num_val_sequences)\n",
    "num_epochs = 30 # choose the number of epochs\n",
    "print ('# epochs =', num_epochs)"
   ]
  },
  {
   "cell_type": "markdown",
   "metadata": {
    "id": "v_E_Uec0ZKU1"
   },
   "source": [
    "## Model Training\n",
    "Here you make the model using different functionalities that Keras provides. Remember to use `Conv3D` and `MaxPooling3D` and not `Conv2D` and `Maxpooling2D` for a 3D convolution model. You would want to use `TimeDistributed` while building a Conv2D + RNN model. Also remember that the last layer is the softmax. Design the network in such a way that the model is able to give good accuracy on the least number of parameters so that it can fit in the memory of the webcam."
   ]
  },
  {
   "cell_type": "markdown",
   "metadata": {
    "id": "5Ph1b--yLMYM"
   },
   "source": [
    "##Model 1\n",
    "####Conv3D with Batch size = 32 \n",
    "####No. of epochs = 20"
   ]
  },
  {
   "cell_type": "code",
   "execution_count": 14,
   "metadata": {
    "id": "tt92x-0679xK"
   },
   "outputs": [],
   "source": [
    "from keras.models import Sequential, Model\n",
    "from keras.layers import Dense, GRU, Flatten, TimeDistributed, Flatten, BatchNormalization, Activation, Dropout\n",
    "from keras.layers.convolutional import Conv3D, Conv2D, MaxPooling3D, MaxPooling2D\n",
    "from keras.callbacks import ModelCheckpoint, ReduceLROnPlateau\n",
    "from keras import optimizers"
   ]
  },
  {
   "cell_type": "code",
   "execution_count": 15,
   "metadata": {
    "id": "gEO45BZdZKU4"
   },
   "outputs": [],
   "source": [
    "train_generator = generator(train_path, train_doc, batch_size)\n",
    "val_generator = generator(val_path, val_doc, batch_size)"
   ]
  },
  {
   "cell_type": "code",
   "execution_count": 16,
   "metadata": {
    "id": "VkS2ulYI824F"
   },
   "outputs": [],
   "source": [
    "#write your model here\n",
    "nb_classes = 5\n",
    "# Input\n",
    "input_shape=(x,y,z,channel)"
   ]
  },
  {
   "cell_type": "code",
   "execution_count": null,
   "metadata": {
    "id": "8CRowtMyZKU2"
   },
   "outputs": [],
   "source": [
    "model = Sequential()\n",
    "model.add(Conv3D(16, (3, 3, 3), padding='same', input_shape=input_shape))\n",
    "model.add(Activation('relu'))\n",
    "model.add(BatchNormalization())\n",
    "model.add(MaxPooling3D(pool_size=(2, 2, 2)))\n",
    "\n",
    "model.add(Conv3D(32, (2, 2, 2), padding='same'))\n",
    "model.add(Activation('relu'))\n",
    "model.add(BatchNormalization())\n",
    "model.add(MaxPooling3D(pool_size=(2, 2, 2)))\n",
    "\n",
    "model.add(Conv3D(64, (2, 2, 2), padding='same'))\n",
    "model.add(Activation('relu'))\n",
    "model.add(BatchNormalization())\n",
    "model.add(MaxPooling3D(pool_size=(2, 2, 2)))\n",
    "\n",
    "model.add(Conv3D(128, (2, 2, 2), padding='same'))\n",
    "model.add(Activation('relu'))\n",
    "model.add(BatchNormalization())\n",
    "\n",
    "model.add(Flatten())\n",
    "model.add(Dense(64,activation='relu'))\n",
    "model.add(BatchNormalization())\n",
    "model.add(Dropout(0.25))\n",
    "\n",
    "model.add(Dense(32,activation='relu'))\n",
    "model.add(BatchNormalization())\n",
    "model.add(Dropout(0.25))\n",
    "\n",
    "model.add(Dense(16,activation='relu'))\n",
    "model.add(BatchNormalization())\n",
    "\n",
    "\n",
    "model.add(Dense(nb_classes,activation='softmax'))\n"
   ]
  },
  {
   "cell_type": "markdown",
   "metadata": {
    "id": "Ia7ep8uTZKU3"
   },
   "source": [
    "Now that you have written the model, the next step is to `compile` the model. When you print the `summary` of the model, you'll see the total number of parameters you have to train."
   ]
  },
  {
   "cell_type": "code",
   "execution_count": null,
   "metadata": {
    "colab": {
     "base_uri": "https://localhost:8080/"
    },
    "id": "Di70yrGzZKU3",
    "outputId": "22b8bf16-0d1a-40b3-91e7-b36c0055ed21",
    "scrolled": true
   },
   "outputs": [
    {
     "name": "stdout",
     "output_type": "stream",
     "text": [
      "Model: \"sequential_4\"\n",
      "_________________________________________________________________\n",
      "Layer (type)                 Output Shape              Param #   \n",
      "=================================================================\n",
      "conv3d_16 (Conv3D)           (None, 18, 120, 120, 16)  1312      \n",
      "_________________________________________________________________\n",
      "activation_16 (Activation)   (None, 18, 120, 120, 16)  0         \n",
      "_________________________________________________________________\n",
      "batch_normalization_28 (Batc (None, 18, 120, 120, 16)  64        \n",
      "_________________________________________________________________\n",
      "max_pooling3d_12 (MaxPooling (None, 9, 60, 60, 16)     0         \n",
      "_________________________________________________________________\n",
      "conv3d_17 (Conv3D)           (None, 9, 60, 60, 32)     4128      \n",
      "_________________________________________________________________\n",
      "activation_17 (Activation)   (None, 9, 60, 60, 32)     0         \n",
      "_________________________________________________________________\n",
      "batch_normalization_29 (Batc (None, 9, 60, 60, 32)     128       \n",
      "_________________________________________________________________\n",
      "max_pooling3d_13 (MaxPooling (None, 4, 30, 30, 32)     0         \n",
      "_________________________________________________________________\n",
      "conv3d_18 (Conv3D)           (None, 4, 30, 30, 64)     16448     \n",
      "_________________________________________________________________\n",
      "activation_18 (Activation)   (None, 4, 30, 30, 64)     0         \n",
      "_________________________________________________________________\n",
      "batch_normalization_30 (Batc (None, 4, 30, 30, 64)     256       \n",
      "_________________________________________________________________\n",
      "max_pooling3d_14 (MaxPooling (None, 2, 15, 15, 64)     0         \n",
      "_________________________________________________________________\n",
      "conv3d_19 (Conv3D)           (None, 2, 15, 15, 128)    65664     \n",
      "_________________________________________________________________\n",
      "activation_19 (Activation)   (None, 2, 15, 15, 128)    0         \n",
      "_________________________________________________________________\n",
      "batch_normalization_31 (Batc (None, 2, 15, 15, 128)    512       \n",
      "_________________________________________________________________\n",
      "flatten_4 (Flatten)          (None, 57600)             0         \n",
      "_________________________________________________________________\n",
      "dense_16 (Dense)             (None, 64)                3686464   \n",
      "_________________________________________________________________\n",
      "batch_normalization_32 (Batc (None, 64)                256       \n",
      "_________________________________________________________________\n",
      "dropout_8 (Dropout)          (None, 64)                0         \n",
      "_________________________________________________________________\n",
      "dense_17 (Dense)             (None, 32)                2080      \n",
      "_________________________________________________________________\n",
      "batch_normalization_33 (Batc (None, 32)                128       \n",
      "_________________________________________________________________\n",
      "dropout_9 (Dropout)          (None, 32)                0         \n",
      "_________________________________________________________________\n",
      "dense_18 (Dense)             (None, 16)                528       \n",
      "_________________________________________________________________\n",
      "batch_normalization_34 (Batc (None, 16)                64        \n",
      "_________________________________________________________________\n",
      "dense_19 (Dense)             (None, 5)                 85        \n",
      "=================================================================\n",
      "Total params: 3,778,117\n",
      "Trainable params: 3,777,413\n",
      "Non-trainable params: 704\n",
      "_________________________________________________________________\n",
      "None\n"
     ]
    }
   ],
   "source": [
    "#from tf.keras.optimizers import Adam\n",
    "optimiser = tf.keras.optimizers.Adam(learning_rate=0.0005, beta_1=0.99) #write your optimizer\n",
    "model.compile(optimizer=optimiser, loss='categorical_crossentropy', metrics=['categorical_accuracy'])\n",
    "print (model.summary())"
   ]
  },
  {
   "cell_type": "markdown",
   "metadata": {
    "id": "FJpE97VkZKU4"
   },
   "source": [
    "Let us create the `train_generator` and the `val_generator` which will be used in `.fit_generator`."
   ]
  },
  {
   "cell_type": "code",
   "execution_count": null,
   "metadata": {
    "colab": {
     "base_uri": "https://localhost:8080/"
    },
    "id": "3UV3Rey6ZKU5",
    "outputId": "19059e4a-d8d0-4856-95d2-25691ab80f9e"
   },
   "outputs": [
    {
     "name": "stdout",
     "output_type": "stream",
     "text": [
      "WARNING:tensorflow:`period` argument is deprecated. Please use `save_freq` to specify the frequency in number of batches seen.\n",
      "WARNING:tensorflow:`epsilon` argument is deprecated and will be removed, use `min_delta` instead.\n"
     ]
    }
   ],
   "source": [
    "model_name = 'model_gesture' + '_' + str(curr_dt_time).replace(' ','').replace(':','_') + '/'\n",
    "    \n",
    "if not os.path.exists(model_name):\n",
    "    os.mkdir(model_name)\n",
    "        \n",
    "filepath = model_name + 'model-{epoch:05d}-{loss:.5f}-{categorical_accuracy:.5f}-{val_loss:.5f}-{val_categorical_accuracy:.5f}.h5'\n",
    "\n",
    "checkpoint = ModelCheckpoint(filepath, monitor='val_loss', verbose=1, save_best_only=False, save_weights_only=False, mode='auto', period=1)\n",
    "\n",
    "LR = ReduceLROnPlateau(monitor='val_loss', factor=0.01, patience=5, cooldown=4, verbose=1,mode='auto',epsilon=0.0001) # write the REducelronplateau code here\n",
    "callbacks_list = [checkpoint, LR]"
   ]
  },
  {
   "cell_type": "markdown",
   "metadata": {
    "id": "mcAC_d23ZKU5"
   },
   "source": [
    "The `steps_per_epoch` and `validation_steps` are used by `fit_generator` to decide the number of next() calls it need to make."
   ]
  },
  {
   "cell_type": "code",
   "execution_count": 21,
   "metadata": {
    "id": "g8J11rNlZKU6"
   },
   "outputs": [],
   "source": [
    "if (num_train_sequences%batch_size) == 0:\n",
    "    steps_per_epoch = int(num_train_sequences/batch_size)\n",
    "else:\n",
    "    steps_per_epoch = (num_train_sequences//batch_size) + 1\n",
    "\n",
    "if (num_val_sequences%batch_size) == 0:\n",
    "    validation_steps = int(num_val_sequences/batch_size)\n",
    "else:\n",
    "    validation_steps = (num_val_sequences//batch_size) + 1"
   ]
  },
  {
   "cell_type": "markdown",
   "metadata": {
    "id": "kJBvDitVZKU6"
   },
   "source": [
    "Let us now fit the model. This will start training the model and with the help of the checkpoints, you'll be able to save the model at the end of each epoch."
   ]
  },
  {
   "cell_type": "code",
   "execution_count": null,
   "metadata": {
    "colab": {
     "base_uri": "https://localhost:8080/"
    },
    "id": "RluKXR7SZKU7",
    "outputId": "3e4db85f-cff8-4355-c879-e7a3630952fa"
   },
   "outputs": [
    {
     "name": "stdout",
     "output_type": "stream",
     "text": [
      "Source path =  /content/Project_data/train ; batch size = 32\n",
      "Epoch 1/20\n",
      "21/21 [==============================] - ETA: 0s - loss: 1.5868 - categorical_accuracy: 0.3695Source path =  /content/Project_data/val ; batch size = 32\n",
      "21/21 [==============================] - 55s 3s/step - loss: 1.5868 - categorical_accuracy: 0.3695 - val_loss: 1.8403 - val_categorical_accuracy: 0.2000\n",
      "\n",
      "Epoch 00001: saving model to model_gesture_2021-09-2914_04_41.761424/model-00001-1.58676-0.36953-1.84029-0.20000.h5\n",
      "Epoch 2/20\n",
      "21/21 [==============================] - 35s 2s/step - loss: 1.3154 - categorical_accuracy: 0.4948 - val_loss: 1.7888 - val_categorical_accuracy: 0.1875\n",
      "\n",
      "Epoch 00002: saving model to model_gesture_2021-09-2914_04_41.761424/model-00002-1.31536-0.49482-1.78885-0.18750.h5\n",
      "Epoch 3/20\n",
      "21/21 [==============================] - 31s 2s/step - loss: 1.2097 - categorical_accuracy: 0.5504 - val_loss: 2.2347 - val_categorical_accuracy: 0.1875\n",
      "\n",
      "Epoch 00003: saving model to model_gesture_2021-09-2914_04_41.761424/model-00003-1.20970-0.55035-2.23470-0.18750.h5\n",
      "Epoch 4/20\n",
      "21/21 [==============================] - 31s 2s/step - loss: 1.1060 - categorical_accuracy: 0.5940 - val_loss: 2.9925 - val_categorical_accuracy: 0.1250\n",
      "\n",
      "Epoch 00004: saving model to model_gesture_2021-09-2914_04_41.761424/model-00004-1.10598-0.59398-2.99250-0.12500.h5\n",
      "Epoch 5/20\n",
      "21/21 [==============================] - 26s 1s/step - loss: 0.9833 - categorical_accuracy: 0.6499 - val_loss: 3.4119 - val_categorical_accuracy: 0.0625\n",
      "\n",
      "Epoch 00005: saving model to model_gesture_2021-09-2914_04_41.761424/model-00005-0.98329-0.64986-3.41192-0.06250.h5\n",
      "Epoch 6/20\n",
      "21/21 [==============================] - 27s 1s/step - loss: 0.9601 - categorical_accuracy: 0.6218 - val_loss: 2.0873 - val_categorical_accuracy: 0.1875\n",
      "\n",
      "Epoch 00006: saving model to model_gesture_2021-09-2914_04_41.761424/model-00006-0.96014-0.62185-2.08733-0.18750.h5\n",
      "Epoch 7/20\n",
      "21/21 [==============================] - 26s 1s/step - loss: 0.8752 - categorical_accuracy: 0.6639 - val_loss: 2.1249 - val_categorical_accuracy: 0.2500\n",
      "\n",
      "Epoch 00007: saving model to model_gesture_2021-09-2914_04_41.761424/model-00007-0.87525-0.66387-2.12491-0.25000.h5\n",
      "\n",
      "Epoch 00007: ReduceLROnPlateau reducing learning rate to 5.000000237487257e-06.\n",
      "Epoch 8/20\n",
      "21/21 [==============================] - 26s 1s/step - loss: 0.9112 - categorical_accuracy: 0.6639 - val_loss: 2.7193 - val_categorical_accuracy: 0.0625\n",
      "\n",
      "Epoch 00008: saving model to model_gesture_2021-09-2914_04_41.761424/model-00008-0.91120-0.66387-2.71930-0.06250.h5\n",
      "Epoch 9/20\n",
      "21/21 [==============================] - 27s 1s/step - loss: 0.8758 - categorical_accuracy: 0.6723 - val_loss: 2.0591 - val_categorical_accuracy: 0.1875\n",
      "\n",
      "Epoch 00009: saving model to model_gesture_2021-09-2914_04_41.761424/model-00009-0.87579-0.67227-2.05907-0.18750.h5\n",
      "Epoch 10/20\n",
      "21/21 [==============================] - 26s 1s/step - loss: 0.8579 - categorical_accuracy: 0.6555 - val_loss: 2.6897 - val_categorical_accuracy: 0.1875\n",
      "\n",
      "Epoch 00010: saving model to model_gesture_2021-09-2914_04_41.761424/model-00010-0.85789-0.65546-2.68968-0.18750.h5\n",
      "Epoch 11/20\n",
      "21/21 [==============================] - 27s 1s/step - loss: 0.8542 - categorical_accuracy: 0.6555 - val_loss: 3.2130 - val_categorical_accuracy: 0.1875\n",
      "\n",
      "Epoch 00011: saving model to model_gesture_2021-09-2914_04_41.761424/model-00011-0.85424-0.65546-3.21297-0.18750.h5\n",
      "Epoch 12/20\n",
      "21/21 [==============================] - 27s 1s/step - loss: 0.8485 - categorical_accuracy: 0.6611 - val_loss: 2.8372 - val_categorical_accuracy: 0.0625\n",
      "\n",
      "Epoch 00012: saving model to model_gesture_2021-09-2914_04_41.761424/model-00012-0.84847-0.66106-2.83721-0.06250.h5\n",
      "Epoch 13/20\n",
      "21/21 [==============================] - 26s 1s/step - loss: 0.8992 - categorical_accuracy: 0.6835 - val_loss: 2.8621 - val_categorical_accuracy: 0.3125\n",
      "\n",
      "Epoch 00013: saving model to model_gesture_2021-09-2914_04_41.761424/model-00013-0.89921-0.68347-2.86213-0.31250.h5\n",
      "Epoch 14/20\n",
      "21/21 [==============================] - 27s 1s/step - loss: 0.8670 - categorical_accuracy: 0.6891 - val_loss: 2.9183 - val_categorical_accuracy: 0.0625\n",
      "\n",
      "Epoch 00014: saving model to model_gesture_2021-09-2914_04_41.761424/model-00014-0.86701-0.68908-2.91827-0.06250.h5\n",
      "Epoch 15/20\n",
      "21/21 [==============================] - 27s 1s/step - loss: 0.8558 - categorical_accuracy: 0.6611 - val_loss: 1.8141 - val_categorical_accuracy: 0.3125\n",
      "\n",
      "Epoch 00015: saving model to model_gesture_2021-09-2914_04_41.761424/model-00015-0.85581-0.66106-1.81409-0.31250.h5\n",
      "\n",
      "Epoch 00015: ReduceLROnPlateau reducing learning rate to 5.0000003284367266e-08.\n",
      "Epoch 16/20\n",
      "21/21 [==============================] - 25s 1s/step - loss: 0.8833 - categorical_accuracy: 0.6555 - val_loss: 2.2080 - val_categorical_accuracy: 0.2500\n",
      "\n",
      "Epoch 00016: saving model to model_gesture_2021-09-2914_04_41.761424/model-00016-0.88327-0.65546-2.20797-0.25000.h5\n",
      "Epoch 17/20\n",
      "21/21 [==============================] - 28s 1s/step - loss: 0.8765 - categorical_accuracy: 0.6611 - val_loss: 2.2320 - val_categorical_accuracy: 0.2500\n",
      "\n",
      "Epoch 00017: saving model to model_gesture_2021-09-2914_04_41.761424/model-00017-0.87646-0.66106-2.23202-0.25000.h5\n",
      "Epoch 18/20\n",
      "21/21 [==============================] - 26s 1s/step - loss: 0.8700 - categorical_accuracy: 0.6667 - val_loss: 2.3633 - val_categorical_accuracy: 0.1250\n",
      "\n",
      "Epoch 00018: saving model to model_gesture_2021-09-2914_04_41.761424/model-00018-0.87001-0.66667-2.36332-0.12500.h5\n",
      "Epoch 19/20\n",
      "21/21 [==============================] - 27s 1s/step - loss: 0.8429 - categorical_accuracy: 0.7087 - val_loss: 2.1140 - val_categorical_accuracy: 0.1250\n",
      "\n",
      "Epoch 00019: saving model to model_gesture_2021-09-2914_04_41.761424/model-00019-0.84293-0.70868-2.11404-0.12500.h5\n",
      "Epoch 20/20\n",
      "21/21 [==============================] - 26s 1s/step - loss: 0.8411 - categorical_accuracy: 0.7087 - val_loss: 1.7944 - val_categorical_accuracy: 0.2500\n",
      "\n",
      "Epoch 00020: saving model to model_gesture_2021-09-2914_04_41.761424/model-00020-0.84113-0.70868-1.79440-0.25000.h5\n"
     ]
    },
    {
     "data": {
      "text/plain": [
       "<keras.callbacks.History at 0x7ff2d7654b50>"
      ]
     },
     "execution_count": 66,
     "metadata": {},
     "output_type": "execute_result"
    }
   ],
   "source": [
    "model.fit_generator(train_generator, steps_per_epoch=steps_per_epoch, epochs=num_epochs, verbose=1, \n",
    "                    callbacks=callbacks_list, validation_data=val_generator, \n",
    "                    validation_steps=validation_steps, class_weight=None, workers=1, initial_epoch=0)"
   ]
  },
  {
   "cell_type": "markdown",
   "metadata": {
    "id": "ALuyLQqmKoMR"
   },
   "source": [
    "###Deleting saved model folders as accuracy of train and validation data is not significant enough."
   ]
  },
  {
   "cell_type": "code",
   "execution_count": null,
   "metadata": {
    "id": "Jgy4mYQ06Ja4"
   },
   "outputs": [],
   "source": [
    "import shutil\n",
    "shutil.rmtree('/content/model_gesture_2021-09-2913_40_35.454796')\n",
    "shutil.rmtree('/content/model_gesture_2021-09-2913_53_42.575123')\n",
    "shutil.rmtree('/content/model_gesture_2021-09-2914_04_41.761424')"
   ]
  },
  {
   "cell_type": "markdown",
   "metadata": {
    "id": "DPA1I7dYMrM9"
   },
   "source": [
    "##Model 2\n",
    "Adding more layers, increasing the dense neurons and drop out"
   ]
  },
  {
   "cell_type": "code",
   "execution_count": null,
   "metadata": {
    "colab": {
     "base_uri": "https://localhost:8080/"
    },
    "id": "RlqTs7yiMxHj",
    "outputId": "a7960dad-4cd0-4865-9ec0-fa7e40ac6143"
   },
   "outputs": [
    {
     "name": "stdout",
     "output_type": "stream",
     "text": [
      "Model: \"sequential_5\"\n",
      "_________________________________________________________________\n",
      "Layer (type)                 Output Shape              Param #   \n",
      "=================================================================\n",
      "conv3d_20 (Conv3D)           (None, 18, 120, 120, 16)  1312      \n",
      "_________________________________________________________________\n",
      "activation_20 (Activation)   (None, 18, 120, 120, 16)  0         \n",
      "_________________________________________________________________\n",
      "batch_normalization_35 (Batc (None, 18, 120, 120, 16)  64        \n",
      "_________________________________________________________________\n",
      "conv3d_21 (Conv3D)           (None, 18, 120, 120, 16)  6928      \n",
      "_________________________________________________________________\n",
      "activation_21 (Activation)   (None, 18, 120, 120, 16)  0         \n",
      "_________________________________________________________________\n",
      "batch_normalization_36 (Batc (None, 18, 120, 120, 16)  64        \n",
      "_________________________________________________________________\n",
      "max_pooling3d_15 (MaxPooling (None, 9, 60, 60, 16)     0         \n",
      "_________________________________________________________________\n",
      "conv3d_22 (Conv3D)           (None, 9, 60, 60, 32)     13856     \n",
      "_________________________________________________________________\n",
      "activation_22 (Activation)   (None, 9, 60, 60, 32)     0         \n",
      "_________________________________________________________________\n",
      "batch_normalization_37 (Batc (None, 9, 60, 60, 32)     128       \n",
      "_________________________________________________________________\n",
      "conv3d_23 (Conv3D)           (None, 9, 60, 60, 32)     27680     \n",
      "_________________________________________________________________\n",
      "activation_23 (Activation)   (None, 9, 60, 60, 32)     0         \n",
      "_________________________________________________________________\n",
      "batch_normalization_38 (Batc (None, 9, 60, 60, 32)     128       \n",
      "_________________________________________________________________\n",
      "max_pooling3d_16 (MaxPooling (None, 4, 30, 30, 32)     0         \n",
      "_________________________________________________________________\n",
      "conv3d_24 (Conv3D)           (None, 4, 30, 30, 64)     55360     \n",
      "_________________________________________________________________\n",
      "activation_24 (Activation)   (None, 4, 30, 30, 64)     0         \n",
      "_________________________________________________________________\n",
      "batch_normalization_39 (Batc (None, 4, 30, 30, 64)     256       \n",
      "_________________________________________________________________\n",
      "conv3d_25 (Conv3D)           (None, 4, 30, 30, 64)     110656    \n",
      "_________________________________________________________________\n",
      "activation_25 (Activation)   (None, 4, 30, 30, 64)     0         \n",
      "_________________________________________________________________\n",
      "batch_normalization_40 (Batc (None, 4, 30, 30, 64)     256       \n",
      "_________________________________________________________________\n",
      "max_pooling3d_17 (MaxPooling (None, 2, 15, 15, 64)     0         \n",
      "_________________________________________________________________\n",
      "conv3d_26 (Conv3D)           (None, 2, 15, 15, 128)    221312    \n",
      "_________________________________________________________________\n",
      "activation_26 (Activation)   (None, 2, 15, 15, 128)    0         \n",
      "_________________________________________________________________\n",
      "batch_normalization_41 (Batc (None, 2, 15, 15, 128)    512       \n",
      "_________________________________________________________________\n",
      "conv3d_27 (Conv3D)           (None, 2, 15, 15, 128)    442496    \n",
      "_________________________________________________________________\n",
      "activation_27 (Activation)   (None, 2, 15, 15, 128)    0         \n",
      "_________________________________________________________________\n",
      "batch_normalization_42 (Batc (None, 2, 15, 15, 128)    512       \n",
      "_________________________________________________________________\n",
      "flatten_5 (Flatten)          (None, 57600)             0         \n",
      "_________________________________________________________________\n",
      "dense_20 (Dense)             (None, 256)               14745856  \n",
      "_________________________________________________________________\n",
      "batch_normalization_43 (Batc (None, 256)               1024      \n",
      "_________________________________________________________________\n",
      "dropout_10 (Dropout)         (None, 256)               0         \n",
      "_________________________________________________________________\n",
      "dense_21 (Dense)             (None, 256)               65792     \n",
      "_________________________________________________________________\n",
      "batch_normalization_44 (Batc (None, 256)               1024      \n",
      "_________________________________________________________________\n",
      "dropout_11 (Dropout)         (None, 256)               0         \n",
      "_________________________________________________________________\n",
      "dense_22 (Dense)             (None, 5)                 1285      \n",
      "=================================================================\n",
      "Total params: 15,696,501\n",
      "Trainable params: 15,694,517\n",
      "Non-trainable params: 1,984\n",
      "_________________________________________________________________\n",
      "None\n"
     ]
    }
   ],
   "source": [
    "nb_classes = 5\n",
    "input_shape=(x,y,z,channel)\n",
    "\n",
    "model = Sequential()\n",
    "model.add(Conv3D(16, (3, 3, 3), padding='same', input_shape=input_shape))\n",
    "model.add(Activation('relu'))\n",
    "model.add(BatchNormalization())\n",
    "\n",
    "model.add(Conv3D(16, (3,3,3), padding='same', input_shape=input_shape))\n",
    "model.add(Activation('relu'))\n",
    "model.add(BatchNormalization())\n",
    "\n",
    "model.add(MaxPooling3D(pool_size=(2, 2, 2)))\n",
    "\n",
    "model.add(Conv3D(32, (3,3,3), padding='same'))\n",
    "model.add(Activation('relu'))\n",
    "model.add(BatchNormalization())\n",
    "\n",
    "model.add(Conv3D(32, (3,3,3), padding='same'))\n",
    "model.add(Activation('relu'))\n",
    "model.add(BatchNormalization())\n",
    "\n",
    "model.add(MaxPooling3D(pool_size=(2, 2, 2)))\n",
    "\n",
    "model.add(Conv3D(64, (3,3,3), padding='same'))\n",
    "model.add(Activation('relu'))\n",
    "model.add(BatchNormalization())\n",
    "\n",
    "model.add(Conv3D(64, (3,3,3), padding='same'))\n",
    "model.add(Activation('relu'))\n",
    "model.add(BatchNormalization())\n",
    "\n",
    "model.add(MaxPooling3D(pool_size=(2, 2, 2)))\n",
    "\n",
    "model.add(Conv3D(128, (3,3,3), padding='same'))\n",
    "model.add(Activation('relu'))\n",
    "model.add(BatchNormalization())\n",
    "\n",
    "model.add(Conv3D(128, (3,3,3), padding='same'))\n",
    "model.add(Activation('relu'))\n",
    "model.add(BatchNormalization())\n",
    "\n",
    "model.add(Flatten())\n",
    "model.add(Dense(256,activation='relu'))\n",
    "model.add(BatchNormalization())\n",
    "model.add(Dropout(0.2))\n",
    "\n",
    "model.add(Dense(256,activation='relu'))\n",
    "model.add(BatchNormalization())\n",
    "model.add(Dropout(0.2))\n",
    "\n",
    "model.add(Dense(nb_classes,activation='softmax'))\n",
    "\n",
    "#Optimizer\n",
    "optimiser = tf.keras.optimizers.Adam(learning_rate=0.001) #write your optimizer\n",
    "model.compile(optimizer=optimiser, loss='categorical_crossentropy', metrics=['categorical_accuracy'])\n",
    "print (model.summary())"
   ]
  },
  {
   "cell_type": "code",
   "execution_count": null,
   "metadata": {
    "colab": {
     "base_uri": "https://localhost:8080/"
    },
    "id": "UNpWC8OUT83z",
    "outputId": "53e4dd0e-cc10-4c45-8a86-224409d02883"
   },
   "outputs": [
    {
     "name": "stdout",
     "output_type": "stream",
     "text": [
      "WARNING:tensorflow:`period` argument is deprecated. Please use `save_freq` to specify the frequency in number of batches seen.\n",
      "WARNING:tensorflow:`epsilon` argument is deprecated and will be removed, use `min_delta` instead.\n"
     ]
    }
   ],
   "source": [
    "model_name = 'model_gesture' + '_' + str(curr_dt_time).replace(' ','').replace(':','_') + '/'\n",
    "    \n",
    "if not os.path.exists(model_name):\n",
    "    os.mkdir(model_name)\n",
    "        \n",
    "filepath = model_name + 'model-{epoch:05d}-{loss:.5f}-{categorical_accuracy:.5f}-{val_loss:.5f}-{val_categorical_accuracy:.5f}.h5'\n",
    "\n",
    "checkpoint = ModelCheckpoint(filepath, monitor='val_loss', verbose=1, save_best_only=False, save_weights_only=False, mode='auto', period=1)\n",
    "\n",
    "LR = ReduceLROnPlateau(monitor='val_loss', factor=0.01, patience=5, cooldown=4, verbose=1,mode='auto',epsilon=0.0001) # write the REducelronplateau code here\n",
    "callbacks_list = [checkpoint, LR]"
   ]
  },
  {
   "cell_type": "code",
   "execution_count": null,
   "metadata": {
    "colab": {
     "base_uri": "https://localhost:8080/"
    },
    "id": "ukbcw1caNY7R",
    "outputId": "4f13e086-86f4-42c4-fa3c-32c98ce35a62"
   },
   "outputs": [
    {
     "name": "stdout",
     "output_type": "stream",
     "text": [
      "Epoch 1/20\n",
      "21/21 [==============================] - 40s 2s/step - loss: 1.8687 - categorical_accuracy: 0.3810 - val_loss: 5.5948 - val_categorical_accuracy: 0.1875\n",
      "\n",
      "Epoch 00001: saving model to model_gesture_2021-09-2914_04_41.761424/model-00001-1.86865-0.38095-5.59483-0.18750.h5\n",
      "Epoch 2/20\n",
      "21/21 [==============================] - 33s 2s/step - loss: 1.5003 - categorical_accuracy: 0.4566 - val_loss: 3.8174 - val_categorical_accuracy: 0.1875\n",
      "\n",
      "Epoch 00002: saving model to model_gesture_2021-09-2914_04_41.761424/model-00002-1.50028-0.45658-3.81742-0.18750.h5\n",
      "Epoch 3/20\n",
      "21/21 [==============================] - 34s 2s/step - loss: 1.3576 - categorical_accuracy: 0.5070 - val_loss: 2.1419 - val_categorical_accuracy: 0.3750\n",
      "\n",
      "Epoch 00003: saving model to model_gesture_2021-09-2914_04_41.761424/model-00003-1.35759-0.50700-2.14193-0.37500.h5\n",
      "Epoch 4/20\n",
      "21/21 [==============================] - 32s 2s/step - loss: 1.2586 - categorical_accuracy: 0.5462 - val_loss: 2.6239 - val_categorical_accuracy: 0.1875\n",
      "\n",
      "Epoch 00004: saving model to model_gesture_2021-09-2914_04_41.761424/model-00004-1.25856-0.54622-2.62387-0.18750.h5\n",
      "Epoch 5/20\n",
      "21/21 [==============================] - 35s 2s/step - loss: 1.2808 - categorical_accuracy: 0.5462 - val_loss: 17.9262 - val_categorical_accuracy: 0.1250\n",
      "\n",
      "Epoch 00005: saving model to model_gesture_2021-09-2914_04_41.761424/model-00005-1.28079-0.54622-17.92618-0.12500.h5\n",
      "Epoch 6/20\n",
      "21/21 [==============================] - 33s 2s/step - loss: 1.1464 - categorical_accuracy: 0.5462 - val_loss: 3.3442 - val_categorical_accuracy: 0.1250\n",
      "\n",
      "Epoch 00006: saving model to model_gesture_2021-09-2914_04_41.761424/model-00006-1.14641-0.54622-3.34421-0.12500.h5\n",
      "Epoch 7/20\n",
      "21/21 [==============================] - 33s 2s/step - loss: 0.9340 - categorical_accuracy: 0.6387 - val_loss: 3.8027 - val_categorical_accuracy: 0.1250\n",
      "\n",
      "Epoch 00007: saving model to model_gesture_2021-09-2914_04_41.761424/model-00007-0.93399-0.63866-3.80265-0.12500.h5\n",
      "Epoch 8/20\n",
      "21/21 [==============================] - 33s 2s/step - loss: 0.8501 - categorical_accuracy: 0.6751 - val_loss: 1.7449 - val_categorical_accuracy: 0.5000\n",
      "\n",
      "Epoch 00008: saving model to model_gesture_2021-09-2914_04_41.761424/model-00008-0.85014-0.67507-1.74489-0.50000.h5\n",
      "Epoch 9/20\n",
      "21/21 [==============================] - 35s 2s/step - loss: 0.7042 - categorical_accuracy: 0.7143 - val_loss: 2.6193 - val_categorical_accuracy: 0.1875\n",
      "\n",
      "Epoch 00009: saving model to model_gesture_2021-09-2914_04_41.761424/model-00009-0.70422-0.71429-2.61932-0.18750.h5\n",
      "Epoch 10/20\n",
      "21/21 [==============================] - 33s 2s/step - loss: 0.7016 - categorical_accuracy: 0.7227 - val_loss: 1.7572 - val_categorical_accuracy: 0.4375\n",
      "\n",
      "Epoch 00010: saving model to model_gesture_2021-09-2914_04_41.761424/model-00010-0.70155-0.72269-1.75721-0.43750.h5\n",
      "Epoch 11/20\n",
      "21/21 [==============================] - 33s 2s/step - loss: 0.6663 - categorical_accuracy: 0.7199 - val_loss: 7.0780 - val_categorical_accuracy: 0.1250\n",
      "\n",
      "Epoch 00011: saving model to model_gesture_2021-09-2914_04_41.761424/model-00011-0.66632-0.71989-7.07798-0.12500.h5\n",
      "Epoch 12/20\n",
      "21/21 [==============================] - 34s 2s/step - loss: 0.6311 - categorical_accuracy: 0.7591 - val_loss: 2.0780 - val_categorical_accuracy: 0.3750\n",
      "\n",
      "Epoch 00012: saving model to model_gesture_2021-09-2914_04_41.761424/model-00012-0.63108-0.75910-2.07799-0.37500.h5\n",
      "Epoch 13/20\n",
      "21/21 [==============================] - 33s 2s/step - loss: 0.5654 - categorical_accuracy: 0.7955 - val_loss: 3.3956 - val_categorical_accuracy: 0.1875\n",
      "\n",
      "Epoch 00013: saving model to model_gesture_2021-09-2914_04_41.761424/model-00013-0.56542-0.79552-3.39565-0.18750.h5\n",
      "\n",
      "Epoch 00013: ReduceLROnPlateau reducing learning rate to 1.0000000474974514e-05.\n",
      "Epoch 14/20\n",
      "21/21 [==============================] - 35s 2s/step - loss: 0.6407 - categorical_accuracy: 0.7563 - val_loss: 3.0744 - val_categorical_accuracy: 0.3125\n",
      "\n",
      "Epoch 00014: saving model to model_gesture_2021-09-2914_04_41.761424/model-00014-0.64070-0.75630-3.07436-0.31250.h5\n",
      "Epoch 15/20\n",
      "21/21 [==============================] - 33s 2s/step - loss: 0.4675 - categorical_accuracy: 0.8207 - val_loss: 3.2913 - val_categorical_accuracy: 0.2500\n",
      "\n",
      "Epoch 00015: saving model to model_gesture_2021-09-2914_04_41.761424/model-00015-0.46750-0.82073-3.29126-0.25000.h5\n",
      "Epoch 16/20\n",
      "21/21 [==============================] - 33s 2s/step - loss: 0.5649 - categorical_accuracy: 0.7787 - val_loss: 2.7025 - val_categorical_accuracy: 0.3750\n",
      "\n",
      "Epoch 00016: saving model to model_gesture_2021-09-2914_04_41.761424/model-00016-0.56488-0.77871-2.70252-0.37500.h5\n",
      "Epoch 17/20\n",
      "21/21 [==============================] - 34s 2s/step - loss: 0.4841 - categorical_accuracy: 0.8123 - val_loss: 3.0693 - val_categorical_accuracy: 0.3750\n",
      "\n",
      "Epoch 00017: saving model to model_gesture_2021-09-2914_04_41.761424/model-00017-0.48408-0.81232-3.06925-0.37500.h5\n",
      "Epoch 18/20\n",
      "21/21 [==============================] - 34s 2s/step - loss: 0.4673 - categorical_accuracy: 0.8123 - val_loss: 2.6087 - val_categorical_accuracy: 0.1875\n",
      "\n",
      "Epoch 00018: saving model to model_gesture_2021-09-2914_04_41.761424/model-00018-0.46728-0.81232-2.60869-0.18750.h5\n",
      "Epoch 19/20\n",
      "21/21 [==============================] - 33s 2s/step - loss: 0.5432 - categorical_accuracy: 0.7647 - val_loss: 1.8674 - val_categorical_accuracy: 0.3125\n",
      "\n",
      "Epoch 00019: saving model to model_gesture_2021-09-2914_04_41.761424/model-00019-0.54324-0.76471-1.86745-0.31250.h5\n",
      "Epoch 20/20\n",
      "21/21 [==============================] - 32s 2s/step - loss: 0.5128 - categorical_accuracy: 0.7955 - val_loss: 1.3750 - val_categorical_accuracy: 0.4375\n",
      "\n",
      "Epoch 00020: saving model to model_gesture_2021-09-2914_04_41.761424/model-00020-0.51279-0.79552-1.37503-0.43750.h5\n"
     ]
    },
    {
     "data": {
      "text/plain": [
       "<keras.callbacks.History at 0x7ff2d62f8a50>"
      ]
     },
     "execution_count": 69,
     "metadata": {},
     "output_type": "execute_result"
    }
   ],
   "source": [
    "model.fit_generator(train_generator, steps_per_epoch=steps_per_epoch, epochs=num_epochs, verbose=1, \n",
    "                    callbacks=callbacks_list, validation_data=val_generator, \n",
    "                    validation_steps=validation_steps, class_weight=None, workers=1, initial_epoch=0)"
   ]
  },
  {
   "cell_type": "code",
   "execution_count": null,
   "metadata": {
    "id": "qy3MpD49T-Iz"
   },
   "outputs": [],
   "source": [
    "shutil.rmtree('/content/model_gesture_2021-09-2906_34_24.005771')"
   ]
  },
  {
   "cell_type": "markdown",
   "metadata": {
    "id": "EkY-ybXIV-Rj"
   },
   "source": [
    "##Model 3 \n",
    "Using Stochastic Gradient Descent as Optimizer\n",
    "\n",
    "Number of Epochs = 30"
   ]
  },
  {
   "cell_type": "code",
   "execution_count": null,
   "metadata": {
    "colab": {
     "base_uri": "https://localhost:8080/"
    },
    "id": "r9PvSKGsV3C-",
    "outputId": "c2b30b23-a7b6-4049-8bdd-41161e92cbf5"
   },
   "outputs": [
    {
     "name": "stdout",
     "output_type": "stream",
     "text": [
      "Model: \"sequential_9\"\n",
      "_________________________________________________________________\n",
      "Layer (type)                 Output Shape              Param #   \n",
      "=================================================================\n",
      "conv3d_52 (Conv3D)           (None, 18, 120, 120, 16)  1312      \n",
      "_________________________________________________________________\n",
      "activation_52 (Activation)   (None, 18, 120, 120, 16)  0         \n",
      "_________________________________________________________________\n",
      "batch_normalization_71 (Batc (None, 18, 120, 120, 16)  64        \n",
      "_________________________________________________________________\n",
      "conv3d_53 (Conv3D)           (None, 18, 120, 120, 16)  6928      \n",
      "_________________________________________________________________\n",
      "activation_53 (Activation)   (None, 18, 120, 120, 16)  0         \n",
      "_________________________________________________________________\n",
      "batch_normalization_72 (Batc (None, 18, 120, 120, 16)  64        \n",
      "_________________________________________________________________\n",
      "max_pooling3d_30 (MaxPooling (None, 9, 60, 60, 16)     0         \n",
      "_________________________________________________________________\n",
      "conv3d_54 (Conv3D)           (None, 9, 60, 60, 32)     13856     \n",
      "_________________________________________________________________\n",
      "activation_54 (Activation)   (None, 9, 60, 60, 32)     0         \n",
      "_________________________________________________________________\n",
      "batch_normalization_73 (Batc (None, 9, 60, 60, 32)     128       \n",
      "_________________________________________________________________\n",
      "conv3d_55 (Conv3D)           (None, 9, 60, 60, 32)     27680     \n",
      "_________________________________________________________________\n",
      "activation_55 (Activation)   (None, 9, 60, 60, 32)     0         \n",
      "_________________________________________________________________\n",
      "batch_normalization_74 (Batc (None, 9, 60, 60, 32)     128       \n",
      "_________________________________________________________________\n",
      "max_pooling3d_31 (MaxPooling (None, 4, 30, 30, 32)     0         \n",
      "_________________________________________________________________\n",
      "conv3d_56 (Conv3D)           (None, 4, 30, 30, 64)     55360     \n",
      "_________________________________________________________________\n",
      "activation_56 (Activation)   (None, 4, 30, 30, 64)     0         \n",
      "_________________________________________________________________\n",
      "batch_normalization_75 (Batc (None, 4, 30, 30, 64)     256       \n",
      "_________________________________________________________________\n",
      "conv3d_57 (Conv3D)           (None, 4, 30, 30, 64)     110656    \n",
      "_________________________________________________________________\n",
      "activation_57 (Activation)   (None, 4, 30, 30, 64)     0         \n",
      "_________________________________________________________________\n",
      "batch_normalization_76 (Batc (None, 4, 30, 30, 64)     256       \n",
      "_________________________________________________________________\n",
      "max_pooling3d_32 (MaxPooling (None, 2, 15, 15, 64)     0         \n",
      "_________________________________________________________________\n",
      "conv3d_58 (Conv3D)           (None, 2, 15, 15, 128)    221312    \n",
      "_________________________________________________________________\n",
      "activation_58 (Activation)   (None, 2, 15, 15, 128)    0         \n",
      "_________________________________________________________________\n",
      "batch_normalization_77 (Batc (None, 2, 15, 15, 128)    512       \n",
      "_________________________________________________________________\n",
      "conv3d_59 (Conv3D)           (None, 2, 15, 15, 128)    442496    \n",
      "_________________________________________________________________\n",
      "activation_59 (Activation)   (None, 2, 15, 15, 128)    0         \n",
      "_________________________________________________________________\n",
      "batch_normalization_78 (Batc (None, 2, 15, 15, 128)    512       \n",
      "_________________________________________________________________\n",
      "max_pooling3d_33 (MaxPooling (None, 1, 7, 7, 128)      0         \n",
      "_________________________________________________________________\n",
      "flatten_9 (Flatten)          (None, 6272)              0         \n",
      "_________________________________________________________________\n",
      "dense_27 (Dense)             (None, 256)               1605888   \n",
      "_________________________________________________________________\n",
      "batch_normalization_79 (Batc (None, 256)               1024      \n",
      "_________________________________________________________________\n",
      "dropout_15 (Dropout)         (None, 256)               0         \n",
      "_________________________________________________________________\n",
      "dense_28 (Dense)             (None, 256)               65792     \n",
      "_________________________________________________________________\n",
      "batch_normalization_80 (Batc (None, 256)               1024      \n",
      "_________________________________________________________________\n",
      "dropout_16 (Dropout)         (None, 256)               0         \n",
      "_________________________________________________________________\n",
      "dense_29 (Dense)             (None, 5)                 1285      \n",
      "=================================================================\n",
      "Total params: 2,556,533\n",
      "Trainable params: 2,554,549\n",
      "Non-trainable params: 1,984\n",
      "_________________________________________________________________\n",
      "None\n"
     ]
    }
   ],
   "source": [
    "nb_classes = 5\n",
    "input_shape=(x,y,z,channel)\n",
    "\n",
    "model = Sequential()\n",
    "model.add(Conv3D(16, (3, 3, 3), padding='same', input_shape=input_shape))\n",
    "model.add(Activation('relu'))\n",
    "model.add(BatchNormalization())\n",
    "\n",
    "model.add(Conv3D(16, (3,3,3), padding='same', input_shape=input_shape))\n",
    "model.add(Activation('relu'))\n",
    "model.add(BatchNormalization())\n",
    "\n",
    "model.add(MaxPooling3D(pool_size=(2, 2, 2)))\n",
    "\n",
    "model.add(Conv3D(32, (3,3,3), padding='same'))\n",
    "model.add(Activation('relu'))\n",
    "model.add(BatchNormalization())\n",
    "\n",
    "model.add(Conv3D(32, (3,3,3), padding='same'))\n",
    "model.add(Activation('relu'))\n",
    "model.add(BatchNormalization())\n",
    "\n",
    "model.add(MaxPooling3D(pool_size=(2, 2, 2)))\n",
    "\n",
    "model.add(Conv3D(64, (3,3,3), padding='same'))\n",
    "model.add(Activation('relu'))\n",
    "model.add(BatchNormalization())\n",
    "\n",
    "model.add(Conv3D(64, (3,3,3), padding='same'))\n",
    "model.add(Activation('relu'))\n",
    "model.add(BatchNormalization())\n",
    "\n",
    "model.add(MaxPooling3D(pool_size=(2, 2, 2)))\n",
    "\n",
    "model.add(Conv3D(128, (3,3,3), padding='same'))\n",
    "model.add(Activation('relu'))\n",
    "model.add(BatchNormalization())\n",
    "\n",
    "model.add(Conv3D(128, (3,3,3), padding='same'))\n",
    "model.add(Activation('relu'))\n",
    "model.add(BatchNormalization())\n",
    "model.add(MaxPooling3D(pool_size=(2, 2, 2)))\n",
    "\n",
    "model.add(Flatten())\n",
    "model.add(Dense(256,activation='relu'))\n",
    "model.add(BatchNormalization(momentum=0.8))\n",
    "model.add(Dropout(0.3))\n",
    "\n",
    "\n",
    "model.add(Dense(256,activation='relu',kernel_regularizer=tf.keras.regularizers.l2(0.0001)))\n",
    "model.add(BatchNormalization(momentum=0.8))\n",
    "model.add(Dropout(0.3))\n",
    "\n",
    "model.add(Dense(nb_classes,activation='softmax'))\n",
    "\n",
    "#Optimizer\n",
    "optimiser = tf.keras.optimizers.SGD() #write your optimizer\n",
    "model.compile(optimizer=optimiser, loss='categorical_crossentropy', metrics=['categorical_accuracy'])\n",
    "print (model.summary())"
   ]
  },
  {
   "cell_type": "code",
   "execution_count": null,
   "metadata": {
    "colab": {
     "base_uri": "https://localhost:8080/"
    },
    "id": "NyOQKU29Wecm",
    "outputId": "97060087-becb-4e03-8210-bc9ac24e4ebb"
   },
   "outputs": [
    {
     "name": "stdout",
     "output_type": "stream",
     "text": [
      "WARNING:tensorflow:`period` argument is deprecated. Please use `save_freq` to specify the frequency in number of batches seen.\n",
      "WARNING:tensorflow:`epsilon` argument is deprecated and will be removed, use `min_delta` instead.\n"
     ]
    }
   ],
   "source": [
    "model_name = 'model_gesture' + '_' + str(curr_dt_time).replace(' ','').replace(':','_') + '/'\n",
    "    \n",
    "if not os.path.exists(model_name):\n",
    "    os.mkdir(model_name)\n",
    "        \n",
    "filepath = model_name + 'model-{epoch:05d}-{loss:.5f}-{categorical_accuracy:.5f}-{val_loss:.5f}-{val_categorical_accuracy:.5f}.h5'\n",
    "\n",
    "checkpoint = ModelCheckpoint(filepath, monitor='val_loss', verbose=1, save_best_only=False, save_weights_only=False, mode='auto', period=1)\n",
    "\n",
    "LR = ReduceLROnPlateau(monitor='val_loss', factor=0.01, patience=5, cooldown=4, verbose=1,mode='auto',epsilon=0.0001) # write the REducelronplateau code here\n",
    "callbacks_list = [checkpoint, LR]"
   ]
  },
  {
   "cell_type": "code",
   "execution_count": null,
   "metadata": {
    "colab": {
     "base_uri": "https://localhost:8080/"
    },
    "id": "R4BBV5U8WhZO",
    "outputId": "8298b48a-6b70-4d3e-b89e-687cdb758efb"
   },
   "outputs": [
    {
     "name": "stdout",
     "output_type": "stream",
     "text": [
      "Epoch 1/30\n",
      "21/21 [==============================] - 36s 2s/step - loss: 2.0785 - categorical_accuracy: 0.3333 - val_loss: 41.2503 - val_categorical_accuracy: 0.1875\n",
      "\n",
      "Epoch 00001: saving model to model_gesture_2021-09-2914_31_59.720448/model-00001-2.07849-0.33333-41.25032-0.18750.h5\n",
      "Epoch 2/30\n",
      "21/21 [==============================] - 33s 2s/step - loss: 1.5873 - categorical_accuracy: 0.4538 - val_loss: 7.4338 - val_categorical_accuracy: 0.1875\n",
      "\n",
      "Epoch 00002: saving model to model_gesture_2021-09-2914_31_59.720448/model-00002-1.58727-0.45378-7.43377-0.18750.h5\n",
      "Epoch 3/30\n",
      "21/21 [==============================] - 34s 2s/step - loss: 1.5211 - categorical_accuracy: 0.4902 - val_loss: 3.1562 - val_categorical_accuracy: 0.3125\n",
      "\n",
      "Epoch 00003: saving model to model_gesture_2021-09-2914_31_59.720448/model-00003-1.52109-0.49020-3.15622-0.31250.h5\n",
      "Epoch 4/30\n",
      "21/21 [==============================] - 34s 2s/step - loss: 1.3746 - categorical_accuracy: 0.5014 - val_loss: 23.6284 - val_categorical_accuracy: 0.1250\n",
      "\n",
      "Epoch 00004: saving model to model_gesture_2021-09-2914_31_59.720448/model-00004-1.37458-0.50140-23.62838-0.12500.h5\n",
      "Epoch 5/30\n",
      "21/21 [==============================] - 34s 2s/step - loss: 1.1960 - categorical_accuracy: 0.5602 - val_loss: 2.9298 - val_categorical_accuracy: 0.1875\n",
      "\n",
      "Epoch 00005: saving model to model_gesture_2021-09-2914_31_59.720448/model-00005-1.19595-0.56022-2.92983-0.18750.h5\n",
      "Epoch 6/30\n",
      "21/21 [==============================] - 33s 2s/step - loss: 1.1597 - categorical_accuracy: 0.5546 - val_loss: 2.0911 - val_categorical_accuracy: 0.3125\n",
      "\n",
      "Epoch 00006: saving model to model_gesture_2021-09-2914_31_59.720448/model-00006-1.15971-0.55462-2.09107-0.31250.h5\n",
      "Epoch 7/30\n",
      "21/21 [==============================] - 34s 2s/step - loss: 1.2202 - categorical_accuracy: 0.5630 - val_loss: 1.6994 - val_categorical_accuracy: 0.3125\n",
      "\n",
      "Epoch 00007: saving model to model_gesture_2021-09-2914_31_59.720448/model-00007-1.22020-0.56303-1.69941-0.31250.h5\n",
      "Epoch 8/30\n",
      "21/21 [==============================] - 34s 2s/step - loss: 1.0395 - categorical_accuracy: 0.5994 - val_loss: 1.9583 - val_categorical_accuracy: 0.1875\n",
      "\n",
      "Epoch 00008: saving model to model_gesture_2021-09-2914_31_59.720448/model-00008-1.03954-0.59944-1.95827-0.18750.h5\n",
      "Epoch 9/30\n",
      "21/21 [==============================] - 34s 2s/step - loss: 0.9168 - categorical_accuracy: 0.6331 - val_loss: 2.3226 - val_categorical_accuracy: 0.2500\n",
      "\n",
      "Epoch 00009: saving model to model_gesture_2021-09-2914_31_59.720448/model-00009-0.91682-0.63305-2.32257-0.25000.h5\n",
      "Epoch 10/30\n",
      "21/21 [==============================] - 33s 2s/step - loss: 0.8796 - categorical_accuracy: 0.6639 - val_loss: 1.5920 - val_categorical_accuracy: 0.3750\n",
      "\n",
      "Epoch 00010: saving model to model_gesture_2021-09-2914_31_59.720448/model-00010-0.87955-0.66387-1.59196-0.37500.h5\n",
      "Epoch 11/30\n",
      "21/21 [==============================] - 34s 2s/step - loss: 0.8244 - categorical_accuracy: 0.7031 - val_loss: 1.8007 - val_categorical_accuracy: 0.4375\n",
      "\n",
      "Epoch 00011: saving model to model_gesture_2021-09-2914_31_59.720448/model-00011-0.82440-0.70308-1.80073-0.43750.h5\n",
      "Epoch 12/30\n",
      "21/21 [==============================] - 33s 2s/step - loss: 0.7547 - categorical_accuracy: 0.7255 - val_loss: 1.5310 - val_categorical_accuracy: 0.4375\n",
      "\n",
      "Epoch 00012: saving model to model_gesture_2021-09-2914_31_59.720448/model-00012-0.75470-0.72549-1.53097-0.43750.h5\n",
      "Epoch 13/30\n",
      "21/21 [==============================] - 35s 2s/step - loss: 0.6834 - categorical_accuracy: 0.7563 - val_loss: 1.7060 - val_categorical_accuracy: 0.3750\n",
      "\n",
      "Epoch 00013: saving model to model_gesture_2021-09-2914_31_59.720448/model-00013-0.68340-0.75630-1.70595-0.37500.h5\n",
      "Epoch 14/30\n",
      "21/21 [==============================] - 33s 2s/step - loss: 0.7023 - categorical_accuracy: 0.7339 - val_loss: 1.4010 - val_categorical_accuracy: 0.5625\n",
      "\n",
      "Epoch 00014: saving model to model_gesture_2021-09-2914_31_59.720448/model-00014-0.70233-0.73389-1.40105-0.56250.h5\n",
      "Epoch 15/30\n",
      "21/21 [==============================] - 33s 2s/step - loss: 0.6917 - categorical_accuracy: 0.7367 - val_loss: 1.6256 - val_categorical_accuracy: 0.3125\n",
      "\n",
      "Epoch 00015: saving model to model_gesture_2021-09-2914_31_59.720448/model-00015-0.69168-0.73669-1.62556-0.31250.h5\n",
      "Epoch 16/30\n",
      "21/21 [==============================] - 34s 2s/step - loss: 0.6026 - categorical_accuracy: 0.7675 - val_loss: 1.1562 - val_categorical_accuracy: 0.5000\n",
      "\n",
      "Epoch 00016: saving model to model_gesture_2021-09-2914_31_59.720448/model-00016-0.60265-0.76751-1.15618-0.50000.h5\n",
      "Epoch 17/30\n",
      "21/21 [==============================] - 34s 2s/step - loss: 0.5318 - categorical_accuracy: 0.8095 - val_loss: 1.6103 - val_categorical_accuracy: 0.4375\n",
      "\n",
      "Epoch 00017: saving model to model_gesture_2021-09-2914_31_59.720448/model-00017-0.53181-0.80952-1.61025-0.43750.h5\n",
      "Epoch 18/30\n",
      "21/21 [==============================] - 33s 2s/step - loss: 0.5104 - categorical_accuracy: 0.8067 - val_loss: 1.3882 - val_categorical_accuracy: 0.6250\n",
      "\n",
      "Epoch 00018: saving model to model_gesture_2021-09-2914_31_59.720448/model-00018-0.51040-0.80672-1.38820-0.62500.h5\n",
      "Epoch 19/30\n",
      "21/21 [==============================] - 35s 2s/step - loss: 0.4691 - categorical_accuracy: 0.8543 - val_loss: 1.3340 - val_categorical_accuracy: 0.4375\n",
      "\n",
      "Epoch 00019: saving model to model_gesture_2021-09-2914_31_59.720448/model-00019-0.46907-0.85434-1.33398-0.43750.h5\n",
      "Epoch 20/30\n",
      "21/21 [==============================] - 33s 2s/step - loss: 0.5841 - categorical_accuracy: 0.7647 - val_loss: 2.7133 - val_categorical_accuracy: 0.3125\n",
      "\n",
      "Epoch 00020: saving model to model_gesture_2021-09-2914_31_59.720448/model-00020-0.58410-0.76471-2.71334-0.31250.h5\n",
      "Epoch 21/30\n",
      "21/21 [==============================] - 34s 2s/step - loss: 0.4816 - categorical_accuracy: 0.8151 - val_loss: 1.2248 - val_categorical_accuracy: 0.6250\n",
      "\n",
      "Epoch 00021: saving model to model_gesture_2021-09-2914_31_59.720448/model-00021-0.48163-0.81513-1.22478-0.62500.h5\n",
      "\n",
      "Epoch 00021: ReduceLROnPlateau reducing learning rate to 9.999999776482583e-05.\n",
      "Epoch 22/30\n",
      "21/21 [==============================] - 33s 2s/step - loss: 0.4722 - categorical_accuracy: 0.8207 - val_loss: 0.9500 - val_categorical_accuracy: 0.6250\n",
      "\n",
      "Epoch 00022: saving model to model_gesture_2021-09-2914_31_59.720448/model-00022-0.47223-0.82073-0.95001-0.62500.h5\n",
      "Epoch 23/30\n",
      "21/21 [==============================] - 34s 2s/step - loss: 0.3879 - categorical_accuracy: 0.8852 - val_loss: 1.1636 - val_categorical_accuracy: 0.5000\n",
      "\n",
      "Epoch 00023: saving model to model_gesture_2021-09-2914_31_59.720448/model-00023-0.38789-0.88515-1.16360-0.50000.h5\n",
      "Epoch 24/30\n",
      "21/21 [==============================] - 35s 2s/step - loss: 0.4225 - categorical_accuracy: 0.8431 - val_loss: 0.8602 - val_categorical_accuracy: 0.6875\n",
      "\n",
      "Epoch 00024: saving model to model_gesture_2021-09-2914_31_59.720448/model-00024-0.42251-0.84314-0.86018-0.68750.h5\n",
      "Epoch 25/30\n",
      "21/21 [==============================] - 34s 2s/step - loss: 0.3553 - categorical_accuracy: 0.8992 - val_loss: 1.8071 - val_categorical_accuracy: 0.4375\n",
      "\n",
      "Epoch 00025: saving model to model_gesture_2021-09-2914_31_59.720448/model-00025-0.35527-0.89916-1.80713-0.43750.h5\n",
      "Epoch 26/30\n",
      "21/21 [==============================] - 33s 2s/step - loss: 0.4227 - categorical_accuracy: 0.8599 - val_loss: 1.0325 - val_categorical_accuracy: 0.6875\n",
      "\n",
      "Epoch 00026: saving model to model_gesture_2021-09-2914_31_59.720448/model-00026-0.42274-0.85994-1.03250-0.68750.h5\n",
      "Epoch 27/30\n",
      "21/21 [==============================] - 35s 2s/step - loss: 0.3839 - categorical_accuracy: 0.8880 - val_loss: 0.8625 - val_categorical_accuracy: 0.5625\n",
      "\n",
      "Epoch 00027: saving model to model_gesture_2021-09-2914_31_59.720448/model-00027-0.38393-0.88796-0.86247-0.56250.h5\n",
      "Epoch 28/30\n",
      "21/21 [==============================] - 34s 2s/step - loss: 0.4277 - categorical_accuracy: 0.8655 - val_loss: 0.5928 - val_categorical_accuracy: 0.8125\n",
      "\n",
      "Epoch 00028: saving model to model_gesture_2021-09-2914_31_59.720448/model-00028-0.42769-0.86555-0.59285-0.81250.h5\n",
      "Epoch 29/30\n",
      "21/21 [==============================] - 34s 2s/step - loss: 0.3699 - categorical_accuracy: 0.8796 - val_loss: 1.4459 - val_categorical_accuracy: 0.4375\n",
      "\n",
      "Epoch 00029: saving model to model_gesture_2021-09-2914_31_59.720448/model-00029-0.36990-0.87955-1.44590-0.43750.h5\n",
      "Epoch 30/30\n",
      "21/21 [==============================] - 33s 2s/step - loss: 0.3811 - categorical_accuracy: 0.8571 - val_loss: 1.6157 - val_categorical_accuracy: 0.4375\n",
      "\n",
      "Epoch 00030: saving model to model_gesture_2021-09-2914_31_59.720448/model-00030-0.38108-0.85714-1.61567-0.43750.h5\n"
     ]
    },
    {
     "data": {
      "text/plain": [
       "<keras.callbacks.History at 0x7ff2d632ec50>"
      ]
     },
     "execution_count": 79,
     "metadata": {},
     "output_type": "execute_result"
    }
   ],
   "source": [
    "model.fit_generator(train_generator, steps_per_epoch=steps_per_epoch, epochs=num_epochs, verbose=1, \n",
    "                    callbacks=callbacks_list, validation_data=val_generator, \n",
    "                    validation_steps=validation_steps, class_weight=None, workers=1, initial_epoch=0)"
   ]
  },
  {
   "cell_type": "code",
   "execution_count": null,
   "metadata": {
    "id": "neStaMUdWwOE"
   },
   "outputs": [],
   "source": [
    "shutil.rmtree('/content/model_gesture_2021-09-2914_31_59.720448')"
   ]
  },
  {
   "cell_type": "markdown",
   "metadata": {
    "id": "6drOzmI7cWD_"
   },
   "source": [
    "##Model 4 \n",
    "CNN-LSTM Model"
   ]
  },
  {
   "cell_type": "code",
   "execution_count": 17,
   "metadata": {
    "id": "8Pzo4MqUcRze"
   },
   "outputs": [],
   "source": [
    "from keras.layers.recurrent import LSTM\n",
    "input_shape=(x,y,z,channel)\n",
    "lstm_cells=64\n",
    "dense_neurons=256\n",
    "dropout=0.3\n",
    "nb_classes = 5\n",
    "\n",
    "model = Sequential()\n",
    "\n",
    "model.add(TimeDistributed(Conv2D(16, (3, 3) , padding='same', activation='relu'), input_shape=input_shape))\n",
    "model.add(TimeDistributed(BatchNormalization(momentum=0.8)))\n",
    "model.add(TimeDistributed(MaxPooling2D((2, 2))))\n",
    "\n",
    "model.add(TimeDistributed(Conv2D(32, (3, 3) , padding='same', activation='relu')))\n",
    "model.add(TimeDistributed(BatchNormalization(momentum=0.8)))\n",
    "model.add(TimeDistributed(MaxPooling2D((2, 2))))\n",
    "\n",
    "model.add(TimeDistributed(Conv2D(64, (3, 3) , padding='same', activation='relu')))\n",
    "model.add(TimeDistributed(BatchNormalization(momentum=0.8)))\n",
    "model.add(TimeDistributed(MaxPooling2D((2, 2))))\n",
    "\n",
    "model.add(TimeDistributed(Conv2D(128, (3, 3) , padding='same', activation='relu')))\n",
    "model.add(TimeDistributed(BatchNormalization(momentum=0.8)))\n",
    "model.add(TimeDistributed(MaxPooling2D((2, 2))))\n",
    "\n",
    "model.add(TimeDistributed(Conv2D(256, (3, 3) , padding='same', activation='relu')))\n",
    "model.add(TimeDistributed(BatchNormalization(momentum=0.8)))\n",
    "model.add(TimeDistributed(MaxPooling2D((2, 2))))\n",
    "\n",
    "model.add(TimeDistributed(Conv2D(512, (2, 2) , padding='valid', activation='relu')))\n",
    "model.add(TimeDistributed(BatchNormalization(momentum=0.8)))\n",
    "model.add(TimeDistributed(MaxPooling2D((2, 2))))\n",
    "\n",
    "model.add(TimeDistributed(Flatten()))\n",
    "\n",
    "model.add(LSTM(lstm_cells))\n",
    "model.add(Dropout(dropout))\n",
    "\n",
    "model.add(Dense(dense_neurons,activation='relu',kernel_regularizer = tf.keras.regularizers.l2(0.0001)))\n",
    "model.add(Dropout(dropout))\n",
    "\n",
    "model.add(Dense(nb_classes, activation='softmax'))\n",
    "optimiser = tf.keras.optimizers.SGD()\n",
    "model.compile(optimizer=optimiser, loss='categorical_crossentropy', metrics=['categorical_accuracy'])"
   ]
  },
  {
   "cell_type": "code",
   "execution_count": 18,
   "metadata": {
    "colab": {
     "base_uri": "https://localhost:8080/"
    },
    "id": "DlScju50dcNy",
    "outputId": "417ad2c1-3da4-4831-c2f3-52f54f221747"
   },
   "outputs": [
    {
     "name": "stdout",
     "output_type": "stream",
     "text": [
      "Model: \"sequential\"\n",
      "_________________________________________________________________\n",
      "Layer (type)                 Output Shape              Param #   \n",
      "=================================================================\n",
      "time_distributed (TimeDistri (None, 18, 120, 120, 16)  448       \n",
      "_________________________________________________________________\n",
      "time_distributed_1 (TimeDist (None, 18, 120, 120, 16)  64        \n",
      "_________________________________________________________________\n",
      "time_distributed_2 (TimeDist (None, 18, 60, 60, 16)    0         \n",
      "_________________________________________________________________\n",
      "time_distributed_3 (TimeDist (None, 18, 60, 60, 32)    4640      \n",
      "_________________________________________________________________\n",
      "time_distributed_4 (TimeDist (None, 18, 60, 60, 32)    128       \n",
      "_________________________________________________________________\n",
      "time_distributed_5 (TimeDist (None, 18, 30, 30, 32)    0         \n",
      "_________________________________________________________________\n",
      "time_distributed_6 (TimeDist (None, 18, 30, 30, 64)    18496     \n",
      "_________________________________________________________________\n",
      "time_distributed_7 (TimeDist (None, 18, 30, 30, 64)    256       \n",
      "_________________________________________________________________\n",
      "time_distributed_8 (TimeDist (None, 18, 15, 15, 64)    0         \n",
      "_________________________________________________________________\n",
      "time_distributed_9 (TimeDist (None, 18, 15, 15, 128)   73856     \n",
      "_________________________________________________________________\n",
      "time_distributed_10 (TimeDis (None, 18, 15, 15, 128)   512       \n",
      "_________________________________________________________________\n",
      "time_distributed_11 (TimeDis (None, 18, 7, 7, 128)     0         \n",
      "_________________________________________________________________\n",
      "time_distributed_12 (TimeDis (None, 18, 7, 7, 256)     295168    \n",
      "_________________________________________________________________\n",
      "time_distributed_13 (TimeDis (None, 18, 7, 7, 256)     1024      \n",
      "_________________________________________________________________\n",
      "time_distributed_14 (TimeDis (None, 18, 3, 3, 256)     0         \n",
      "_________________________________________________________________\n",
      "time_distributed_15 (TimeDis (None, 18, 2, 2, 512)     524800    \n",
      "_________________________________________________________________\n",
      "time_distributed_16 (TimeDis (None, 18, 2, 2, 512)     2048      \n",
      "_________________________________________________________________\n",
      "time_distributed_17 (TimeDis (None, 18, 1, 1, 512)     0         \n",
      "_________________________________________________________________\n",
      "time_distributed_18 (TimeDis (None, 18, 512)           0         \n",
      "_________________________________________________________________\n",
      "lstm (LSTM)                  (None, 64)                147712    \n",
      "_________________________________________________________________\n",
      "dropout (Dropout)            (None, 64)                0         \n",
      "_________________________________________________________________\n",
      "dense (Dense)                (None, 256)               16640     \n",
      "_________________________________________________________________\n",
      "dropout_1 (Dropout)          (None, 256)               0         \n",
      "_________________________________________________________________\n",
      "dense_1 (Dense)              (None, 5)                 1285      \n",
      "=================================================================\n",
      "Total params: 1,087,077\n",
      "Trainable params: 1,085,061\n",
      "Non-trainable params: 2,016\n",
      "_________________________________________________________________\n",
      "None\n"
     ]
    }
   ],
   "source": [
    "print (model.summary())"
   ]
  },
  {
   "cell_type": "code",
   "execution_count": 19,
   "metadata": {
    "colab": {
     "base_uri": "https://localhost:8080/"
    },
    "id": "Ln2VA37EeDS4",
    "outputId": "23124f3e-1ea3-407d-e7e3-710b649f180e"
   },
   "outputs": [
    {
     "name": "stdout",
     "output_type": "stream",
     "text": [
      "WARNING:tensorflow:`period` argument is deprecated. Please use `save_freq` to specify the frequency in number of batches seen.\n",
      "WARNING:tensorflow:`epsilon` argument is deprecated and will be removed, use `min_delta` instead.\n"
     ]
    }
   ],
   "source": [
    "model_name = 'model_gesture' + '_' + str(curr_dt_time).replace(' ','').replace(':','_') + '/'\n",
    "    \n",
    "if not os.path.exists(model_name):\n",
    "    os.mkdir(model_name)\n",
    "        \n",
    "filepath = model_name + 'model-{epoch:05d}-{loss:.5f}-{categorical_accuracy:.5f}-{val_loss:.5f}-{val_categorical_accuracy:.5f}.h5'\n",
    "\n",
    "checkpoint = ModelCheckpoint(filepath, monitor='val_loss', verbose=1, save_best_only=False, save_weights_only=False, mode='auto', period=1)\n",
    "\n",
    "LR = ReduceLROnPlateau(monitor='val_loss', factor=0.01, patience=5, cooldown=4, verbose=1,mode='auto',epsilon=0.0001) # write the REducelronplateau code here\n",
    "callbacks_list = [checkpoint, LR]"
   ]
  },
  {
   "cell_type": "code",
   "execution_count": 22,
   "metadata": {
    "colab": {
     "base_uri": "https://localhost:8080/"
    },
    "id": "xziOktAoeIpl",
    "outputId": "6a2d8301-492f-4291-e35b-e41c8a5d6841"
   },
   "outputs": [
    {
     "name": "stdout",
     "output_type": "stream",
     "text": [
      "Source path =  /content/Project_data/train ; batch size = 32\n",
      "Epoch 1/30\n",
      "21/21 [==============================] - ETA: 0s - loss: 1.5859 - categorical_accuracy: 0.2685Source path =  /content/Project_data/val ; batch size = 32\n",
      "21/21 [==============================] - 99s 3s/step - loss: 1.5859 - categorical_accuracy: 0.2685 - val_loss: 1.5484 - val_categorical_accuracy: 0.3300\n",
      "\n",
      "Epoch 00001: saving model to model_gesture_2021-09-2915_48_41.305220/model-00001-1.58586-0.26848-1.54843-0.33000.h5\n",
      "Epoch 2/30\n",
      "21/21 [==============================] - 38s 2s/step - loss: 1.4893 - categorical_accuracy: 0.3313 - val_loss: 1.4374 - val_categorical_accuracy: 0.3125\n",
      "\n",
      "Epoch 00002: saving model to model_gesture_2021-09-2915_48_41.305220/model-00002-1.48926-0.33126-1.43736-0.31250.h5\n",
      "Epoch 3/30\n",
      "21/21 [==============================] - 33s 2s/step - loss: 1.4411 - categorical_accuracy: 0.3841 - val_loss: 1.4776 - val_categorical_accuracy: 0.1875\n",
      "\n",
      "Epoch 00003: saving model to model_gesture_2021-09-2915_48_41.305220/model-00003-1.44109-0.38407-1.47764-0.18750.h5\n",
      "Epoch 4/30\n",
      "21/21 [==============================] - 31s 2s/step - loss: 1.3897 - categorical_accuracy: 0.4336 - val_loss: 1.1784 - val_categorical_accuracy: 0.5625\n",
      "\n",
      "Epoch 00004: saving model to model_gesture_2021-09-2915_48_41.305220/model-00004-1.38970-0.43358-1.17842-0.56250.h5\n",
      "Epoch 5/30\n",
      "21/21 [==============================] - 30s 1s/step - loss: 1.3217 - categorical_accuracy: 0.4902 - val_loss: 1.3262 - val_categorical_accuracy: 0.3750\n",
      "\n",
      "Epoch 00005: saving model to model_gesture_2021-09-2915_48_41.305220/model-00005-1.32166-0.49020-1.32625-0.37500.h5\n",
      "Epoch 6/30\n",
      "21/21 [==============================] - 27s 1s/step - loss: 1.2271 - categorical_accuracy: 0.5042 - val_loss: 1.2111 - val_categorical_accuracy: 0.5000\n",
      "\n",
      "Epoch 00006: saving model to model_gesture_2021-09-2915_48_41.305220/model-00006-1.22709-0.50420-1.21108-0.50000.h5\n",
      "Epoch 7/30\n",
      "21/21 [==============================] - 28s 1s/step - loss: 1.1583 - categorical_accuracy: 0.5154 - val_loss: 1.2119 - val_categorical_accuracy: 0.4375\n",
      "\n",
      "Epoch 00007: saving model to model_gesture_2021-09-2915_48_41.305220/model-00007-1.15830-0.51541-1.21190-0.43750.h5\n",
      "Epoch 8/30\n",
      "21/21 [==============================] - 27s 1s/step - loss: 1.1108 - categorical_accuracy: 0.5182 - val_loss: 1.0154 - val_categorical_accuracy: 0.5625\n",
      "\n",
      "Epoch 00008: saving model to model_gesture_2021-09-2915_48_41.305220/model-00008-1.11083-0.51821-1.01537-0.56250.h5\n",
      "Epoch 9/30\n",
      "21/21 [==============================] - 29s 1s/step - loss: 1.0409 - categorical_accuracy: 0.5882 - val_loss: 1.1086 - val_categorical_accuracy: 0.5625\n",
      "\n",
      "Epoch 00009: saving model to model_gesture_2021-09-2915_48_41.305220/model-00009-1.04094-0.58824-1.10864-0.56250.h5\n",
      "Epoch 10/30\n",
      "21/21 [==============================] - 27s 1s/step - loss: 1.0294 - categorical_accuracy: 0.5826 - val_loss: 1.1296 - val_categorical_accuracy: 0.5625\n",
      "\n",
      "Epoch 00010: saving model to model_gesture_2021-09-2915_48_41.305220/model-00010-1.02940-0.58263-1.12964-0.56250.h5\n",
      "Epoch 11/30\n",
      "21/21 [==============================] - 27s 1s/step - loss: 0.9170 - categorical_accuracy: 0.6695 - val_loss: 1.1526 - val_categorical_accuracy: 0.5000\n",
      "\n",
      "Epoch 00011: saving model to model_gesture_2021-09-2915_48_41.305220/model-00011-0.91699-0.66947-1.15261-0.50000.h5\n",
      "Epoch 12/30\n",
      "21/21 [==============================] - 27s 1s/step - loss: 0.8575 - categorical_accuracy: 0.6975 - val_loss: 0.9589 - val_categorical_accuracy: 0.6250\n",
      "\n",
      "Epoch 00012: saving model to model_gesture_2021-09-2915_48_41.305220/model-00012-0.85747-0.69748-0.95891-0.62500.h5\n",
      "Epoch 13/30\n",
      "21/21 [==============================] - 28s 1s/step - loss: 0.8738 - categorical_accuracy: 0.7003 - val_loss: 0.9625 - val_categorical_accuracy: 0.5000\n",
      "\n",
      "Epoch 00013: saving model to model_gesture_2021-09-2915_48_41.305220/model-00013-0.87385-0.70028-0.96252-0.50000.h5\n",
      "Epoch 14/30\n",
      "21/21 [==============================] - 30s 1s/step - loss: 0.8448 - categorical_accuracy: 0.6891 - val_loss: 1.2454 - val_categorical_accuracy: 0.3750\n",
      "\n",
      "Epoch 00014: saving model to model_gesture_2021-09-2915_48_41.305220/model-00014-0.84481-0.68908-1.24541-0.37500.h5\n",
      "Epoch 15/30\n",
      "21/21 [==============================] - 27s 1s/step - loss: 0.7837 - categorical_accuracy: 0.7311 - val_loss: 0.8738 - val_categorical_accuracy: 0.7500\n",
      "\n",
      "Epoch 00015: saving model to model_gesture_2021-09-2915_48_41.305220/model-00015-0.78370-0.73109-0.87380-0.75000.h5\n",
      "Epoch 16/30\n",
      "21/21 [==============================] - 29s 1s/step - loss: 0.6954 - categorical_accuracy: 0.7815 - val_loss: 1.0927 - val_categorical_accuracy: 0.5000\n",
      "\n",
      "Epoch 00016: saving model to model_gesture_2021-09-2915_48_41.305220/model-00016-0.69538-0.78151-1.09268-0.50000.h5\n",
      "Epoch 17/30\n",
      "21/21 [==============================] - 27s 1s/step - loss: 0.8162 - categorical_accuracy: 0.6891 - val_loss: 1.0161 - val_categorical_accuracy: 0.5625\n",
      "\n",
      "Epoch 00017: saving model to model_gesture_2021-09-2915_48_41.305220/model-00017-0.81625-0.68908-1.01612-0.56250.h5\n",
      "Epoch 18/30\n",
      "21/21 [==============================] - 28s 1s/step - loss: 0.6907 - categorical_accuracy: 0.7675 - val_loss: 1.4553 - val_categorical_accuracy: 0.3750\n",
      "\n",
      "Epoch 00018: saving model to model_gesture_2021-09-2915_48_41.305220/model-00018-0.69069-0.76751-1.45534-0.37500.h5\n",
      "Epoch 19/30\n",
      "21/21 [==============================] - 28s 1s/step - loss: 0.6709 - categorical_accuracy: 0.7507 - val_loss: 0.4525 - val_categorical_accuracy: 0.9375\n",
      "\n",
      "Epoch 00019: saving model to model_gesture_2021-09-2915_48_41.305220/model-00019-0.67087-0.75070-0.45246-0.93750.h5\n",
      "Epoch 20/30\n",
      "21/21 [==============================] - 29s 1s/step - loss: 0.5827 - categorical_accuracy: 0.8235 - val_loss: 0.8784 - val_categorical_accuracy: 0.6875\n",
      "\n",
      "Epoch 00020: saving model to model_gesture_2021-09-2915_48_41.305220/model-00020-0.58273-0.82353-0.87837-0.68750.h5\n",
      "Epoch 21/30\n",
      "21/21 [==============================] - 27s 1s/step - loss: 0.5771 - categorical_accuracy: 0.8291 - val_loss: 0.5748 - val_categorical_accuracy: 0.8125\n",
      "\n",
      "Epoch 00021: saving model to model_gesture_2021-09-2915_48_41.305220/model-00021-0.57712-0.82913-0.57484-0.81250.h5\n",
      "Epoch 22/30\n",
      "21/21 [==============================] - 28s 1s/step - loss: 0.5818 - categorical_accuracy: 0.7983 - val_loss: 0.4762 - val_categorical_accuracy: 0.8125\n",
      "\n",
      "Epoch 00022: saving model to model_gesture_2021-09-2915_48_41.305220/model-00022-0.58177-0.79832-0.47624-0.81250.h5\n",
      "Epoch 23/30\n",
      "21/21 [==============================] - 29s 1s/step - loss: 0.6863 - categorical_accuracy: 0.7731 - val_loss: 1.1292 - val_categorical_accuracy: 0.6875\n",
      "\n",
      "Epoch 00023: saving model to model_gesture_2021-09-2915_48_41.305220/model-00023-0.68633-0.77311-1.12925-0.68750.h5\n",
      "Epoch 24/30\n",
      "21/21 [==============================] - 29s 1s/step - loss: 0.5053 - categorical_accuracy: 0.8319 - val_loss: 1.1829 - val_categorical_accuracy: 0.5625\n",
      "\n",
      "Epoch 00024: saving model to model_gesture_2021-09-2915_48_41.305220/model-00024-0.50533-0.83193-1.18290-0.56250.h5\n",
      "\n",
      "Epoch 00024: ReduceLROnPlateau reducing learning rate to 9.999999776482583e-05.\n",
      "Epoch 25/30\n",
      "21/21 [==============================] - 27s 1s/step - loss: 0.5122 - categorical_accuracy: 0.8347 - val_loss: 0.4179 - val_categorical_accuracy: 0.8750\n",
      "\n",
      "Epoch 00025: saving model to model_gesture_2021-09-2915_48_41.305220/model-00025-0.51223-0.83473-0.41789-0.87500.h5\n",
      "Epoch 26/30\n",
      "21/21 [==============================] - 29s 1s/step - loss: 0.4193 - categorical_accuracy: 0.8655 - val_loss: 0.5460 - val_categorical_accuracy: 0.8125\n",
      "\n",
      "Epoch 00026: saving model to model_gesture_2021-09-2915_48_41.305220/model-00026-0.41929-0.86555-0.54599-0.81250.h5\n",
      "Epoch 27/30\n",
      "21/21 [==============================] - 27s 1s/step - loss: 0.4506 - categorical_accuracy: 0.8683 - val_loss: 0.6543 - val_categorical_accuracy: 0.7500\n",
      "\n",
      "Epoch 00027: saving model to model_gesture_2021-09-2915_48_41.305220/model-00027-0.45064-0.86835-0.65431-0.75000.h5\n",
      "Epoch 28/30\n",
      "21/21 [==============================] - 29s 1s/step - loss: 0.4507 - categorical_accuracy: 0.8599 - val_loss: 0.9162 - val_categorical_accuracy: 0.6875\n",
      "\n",
      "Epoch 00028: saving model to model_gesture_2021-09-2915_48_41.305220/model-00028-0.45067-0.85994-0.91621-0.68750.h5\n",
      "Epoch 29/30\n",
      "21/21 [==============================] - 27s 1s/step - loss: 0.4516 - categorical_accuracy: 0.8627 - val_loss: 0.3817 - val_categorical_accuracy: 0.8750\n",
      "\n",
      "Epoch 00029: saving model to model_gesture_2021-09-2915_48_41.305220/model-00029-0.45163-0.86275-0.38166-0.87500.h5\n",
      "Epoch 30/30\n",
      "21/21 [==============================] - 29s 1s/step - loss: 0.4502 - categorical_accuracy: 0.8599 - val_loss: 0.5359 - val_categorical_accuracy: 0.8750\n",
      "\n",
      "Epoch 00030: saving model to model_gesture_2021-09-2915_48_41.305220/model-00030-0.45020-0.85994-0.53593-0.87500.h5\n"
     ]
    },
    {
     "data": {
      "text/plain": [
       "<keras.callbacks.History at 0x7f4a43bb7850>"
      ]
     },
     "execution_count": 22,
     "metadata": {},
     "output_type": "execute_result"
    }
   ],
   "source": [
    "model.fit_generator(train_generator, steps_per_epoch=steps_per_epoch, epochs=num_epochs, verbose=1, \n",
    "                    callbacks=callbacks_list, validation_data=val_generator, \n",
    "                    validation_steps=validation_steps, class_weight=None, workers=1, initial_epoch=0)"
   ]
  },
  {
   "cell_type": "code",
   "execution_count": null,
   "metadata": {
    "id": "cBns3FMYeMOu"
   },
   "outputs": [],
   "source": [
    "shutil.rmtree('/content/model_gesture_2021-09-2906_34_24.005771')"
   ]
  },
  {
   "cell_type": "markdown",
   "metadata": {
    "id": "DwXjBh8ToZ1f"
   },
   "source": [
    "##Model 5\n",
    "CNN+LSTM but reducing the parameters"
   ]
  },
  {
   "cell_type": "code",
   "execution_count": 36,
   "metadata": {
    "id": "mbnx6cTOgXM9"
   },
   "outputs": [],
   "source": [
    "from keras.layers.recurrent import LSTM\n",
    "input_shape=(x,y,z,channel)\n",
    "lstm_cells=32\n",
    "dense_neurons=64\n",
    "dropout=0.3\n",
    "nb_classes = 5\n",
    "\n",
    "model = Sequential()\n",
    "\n",
    "model.add(TimeDistributed(Conv2D(16, (3, 3) , padding='same', activation='relu'), input_shape=input_shape))\n",
    "model.add(TimeDistributed(BatchNormalization(momentum=0.8)))\n",
    "model.add(TimeDistributed(MaxPooling2D((2, 2))))\n",
    "\n",
    "model.add(TimeDistributed(Conv2D(32, (3, 3) , padding='same', activation='relu')))\n",
    "model.add(TimeDistributed(BatchNormalization(momentum=0.8)))\n",
    "model.add(TimeDistributed(MaxPooling2D((2, 2))))\n",
    "\n",
    "model.add(TimeDistributed(Conv2D(64, (3, 3) , padding='same', activation='relu')))\n",
    "model.add(TimeDistributed(BatchNormalization(momentum=0.8)))\n",
    "model.add(TimeDistributed(MaxPooling2D((2, 2))))\n",
    "\n",
    "model.add(TimeDistributed(Conv2D(128, (3, 3) , padding='same', activation='relu')))\n",
    "model.add(TimeDistributed(BatchNormalization(momentum=0.8)))\n",
    "model.add(TimeDistributed(MaxPooling2D((2, 2))))\n",
    "\n",
    "model.add(TimeDistributed(Conv2D(256, (3, 3) , padding='same', activation='relu')))\n",
    "model.add(TimeDistributed(BatchNormalization(momentum=0.8)))\n",
    "model.add(TimeDistributed(MaxPooling2D((2, 2))))\n",
    "\n",
    "model.add(TimeDistributed(Conv2D(512, (2, 2) , padding='valid', activation='relu')))\n",
    "model.add(TimeDistributed(BatchNormalization(momentum=0.8)))\n",
    "model.add(TimeDistributed(MaxPooling2D((2, 2))))\n",
    "\n",
    "model.add(TimeDistributed(Flatten()))\n",
    "\n",
    "model.add(LSTM(lstm_cells))\n",
    "model.add(Dropout(dropout))\n",
    "\n",
    "model.add(Dense(dense_neurons,activation='relu',kernel_regularizer = tf.keras.regularizers.l2(0.0001)))\n",
    "model.add(Dropout(dropout))\n",
    "\n",
    "model.add(Dense(nb_classes, activation='softmax'))\n",
    "optimiser = tf.keras.optimizers.SGD(learning_rate=0.005)\n",
    "model.compile(optimizer=optimiser, loss='categorical_crossentropy', metrics=['categorical_accuracy'])"
   ]
  },
  {
   "cell_type": "code",
   "execution_count": 37,
   "metadata": {
    "colab": {
     "base_uri": "https://localhost:8080/"
    },
    "id": "a1ZxMtZsg04K",
    "outputId": "039e2251-ab78-42c5-aead-f0b743794725"
   },
   "outputs": [
    {
     "name": "stdout",
     "output_type": "stream",
     "text": [
      "Model: \"sequential_6\"\n",
      "_________________________________________________________________\n",
      "Layer (type)                 Output Shape              Param #   \n",
      "=================================================================\n",
      "time_distributed_108 (TimeDi (None, 18, 120, 120, 16)  448       \n",
      "_________________________________________________________________\n",
      "time_distributed_109 (TimeDi (None, 18, 120, 120, 16)  64        \n",
      "_________________________________________________________________\n",
      "time_distributed_110 (TimeDi (None, 18, 60, 60, 16)    0         \n",
      "_________________________________________________________________\n",
      "time_distributed_111 (TimeDi (None, 18, 60, 60, 32)    4640      \n",
      "_________________________________________________________________\n",
      "time_distributed_112 (TimeDi (None, 18, 60, 60, 32)    128       \n",
      "_________________________________________________________________\n",
      "time_distributed_113 (TimeDi (None, 18, 30, 30, 32)    0         \n",
      "_________________________________________________________________\n",
      "time_distributed_114 (TimeDi (None, 18, 30, 30, 64)    18496     \n",
      "_________________________________________________________________\n",
      "time_distributed_115 (TimeDi (None, 18, 30, 30, 64)    256       \n",
      "_________________________________________________________________\n",
      "time_distributed_116 (TimeDi (None, 18, 15, 15, 64)    0         \n",
      "_________________________________________________________________\n",
      "time_distributed_117 (TimeDi (None, 18, 15, 15, 128)   73856     \n",
      "_________________________________________________________________\n",
      "time_distributed_118 (TimeDi (None, 18, 15, 15, 128)   512       \n",
      "_________________________________________________________________\n",
      "time_distributed_119 (TimeDi (None, 18, 7, 7, 128)     0         \n",
      "_________________________________________________________________\n",
      "time_distributed_120 (TimeDi (None, 18, 7, 7, 256)     295168    \n",
      "_________________________________________________________________\n",
      "time_distributed_121 (TimeDi (None, 18, 7, 7, 256)     1024      \n",
      "_________________________________________________________________\n",
      "time_distributed_122 (TimeDi (None, 18, 3, 3, 256)     0         \n",
      "_________________________________________________________________\n",
      "time_distributed_123 (TimeDi (None, 18, 2, 2, 512)     524800    \n",
      "_________________________________________________________________\n",
      "time_distributed_124 (TimeDi (None, 18, 2, 2, 512)     2048      \n",
      "_________________________________________________________________\n",
      "time_distributed_125 (TimeDi (None, 18, 1, 1, 512)     0         \n",
      "_________________________________________________________________\n",
      "time_distributed_126 (TimeDi (None, 18, 512)           0         \n",
      "_________________________________________________________________\n",
      "lstm_6 (LSTM)                (None, 32)                69760     \n",
      "_________________________________________________________________\n",
      "dropout_12 (Dropout)         (None, 32)                0         \n",
      "_________________________________________________________________\n",
      "dense_12 (Dense)             (None, 64)                2112      \n",
      "_________________________________________________________________\n",
      "dropout_13 (Dropout)         (None, 64)                0         \n",
      "_________________________________________________________________\n",
      "dense_13 (Dense)             (None, 5)                 325       \n",
      "=================================================================\n",
      "Total params: 993,637\n",
      "Trainable params: 991,621\n",
      "Non-trainable params: 2,016\n",
      "_________________________________________________________________\n",
      "None\n"
     ]
    }
   ],
   "source": [
    "print (model.summary())"
   ]
  },
  {
   "cell_type": "code",
   "execution_count": 38,
   "metadata": {
    "colab": {
     "base_uri": "https://localhost:8080/"
    },
    "id": "KjbyLe8fo9TX",
    "outputId": "4eac9712-c5a6-470c-c4f1-cf4be1a7eebe"
   },
   "outputs": [
    {
     "name": "stdout",
     "output_type": "stream",
     "text": [
      "WARNING:tensorflow:`period` argument is deprecated. Please use `save_freq` to specify the frequency in number of batches seen.\n",
      "WARNING:tensorflow:`epsilon` argument is deprecated and will be removed, use `min_delta` instead.\n"
     ]
    }
   ],
   "source": [
    "model_name = 'model_gesture' + '_' + str(curr_dt_time).replace(' ','').replace(':','_') + '/'\n",
    "    \n",
    "if not os.path.exists(model_name):\n",
    "    os.mkdir(model_name)\n",
    "        \n",
    "filepath = model_name + 'model-{epoch:05d}-{loss:.5f}-{categorical_accuracy:.5f}-{val_loss:.5f}-{val_categorical_accuracy:.5f}.h5'\n",
    "\n",
    "checkpoint = ModelCheckpoint(filepath, monitor='val_loss', verbose=1, save_best_only=False, save_weights_only=False, mode='auto', period=1)\n",
    "\n",
    "LR = ReduceLROnPlateau(monitor='val_loss', factor=0.01, patience=5, cooldown=4, verbose=1,mode='auto',epsilon=0.0001) # write the REducelronplateau code here\n",
    "callbacks_list = [checkpoint, LR]"
   ]
  },
  {
   "cell_type": "code",
   "execution_count": 39,
   "metadata": {
    "colab": {
     "base_uri": "https://localhost:8080/"
    },
    "id": "5ytgNU-yqsmH",
    "outputId": "13744b5e-8222-440d-9c3d-bbf43c7417f1"
   },
   "outputs": [
    {
     "name": "stdout",
     "output_type": "stream",
     "text": [
      "Epoch 1/30\n",
      "21/21 [==============================] - 35s 2s/step - loss: 1.6076 - categorical_accuracy: 0.2017 - val_loss: 1.6285 - val_categorical_accuracy: 0.1250\n",
      "\n",
      "Epoch 00001: saving model to model_gesture_2021-09-2915_48_41.305220/model-00001-1.60758-0.20168-1.62850-0.12500.h5\n",
      "Epoch 2/30\n",
      "21/21 [==============================] - 29s 1s/step - loss: 1.5645 - categorical_accuracy: 0.2941 - val_loss: 1.5813 - val_categorical_accuracy: 0.3125\n",
      "\n",
      "Epoch 00002: saving model to model_gesture_2021-09-2915_48_41.305220/model-00002-1.56446-0.29412-1.58128-0.31250.h5\n",
      "Epoch 3/30\n",
      "21/21 [==============================] - 28s 1s/step - loss: 1.5483 - categorical_accuracy: 0.3053 - val_loss: 1.5120 - val_categorical_accuracy: 0.2500\n",
      "\n",
      "Epoch 00003: saving model to model_gesture_2021-09-2915_48_41.305220/model-00003-1.54827-0.30532-1.51195-0.25000.h5\n",
      "Epoch 4/30\n",
      "21/21 [==============================] - 28s 1s/step - loss: 1.5015 - categorical_accuracy: 0.3249 - val_loss: 1.4167 - val_categorical_accuracy: 0.3125\n",
      "\n",
      "Epoch 00004: saving model to model_gesture_2021-09-2915_48_41.305220/model-00004-1.50149-0.32493-1.41672-0.31250.h5\n",
      "Epoch 5/30\n",
      "21/21 [==============================] - 28s 1s/step - loss: 1.4481 - categorical_accuracy: 0.3782 - val_loss: 1.3364 - val_categorical_accuracy: 0.5000\n",
      "\n",
      "Epoch 00005: saving model to model_gesture_2021-09-2915_48_41.305220/model-00005-1.44808-0.37815-1.33637-0.50000.h5\n",
      "Epoch 6/30\n",
      "21/21 [==============================] - 29s 1s/step - loss: 1.4936 - categorical_accuracy: 0.3389 - val_loss: 1.3894 - val_categorical_accuracy: 0.4375\n",
      "\n",
      "Epoch 00006: saving model to model_gesture_2021-09-2915_48_41.305220/model-00006-1.49362-0.33894-1.38942-0.43750.h5\n",
      "Epoch 7/30\n",
      "21/21 [==============================] - 28s 1s/step - loss: 1.3783 - categorical_accuracy: 0.4314 - val_loss: 1.3837 - val_categorical_accuracy: 0.3750\n",
      "\n",
      "Epoch 00007: saving model to model_gesture_2021-09-2915_48_41.305220/model-00007-1.37833-0.43137-1.38368-0.37500.h5\n",
      "Epoch 8/30\n",
      "21/21 [==============================] - 29s 1s/step - loss: 1.3989 - categorical_accuracy: 0.4062 - val_loss: 1.3264 - val_categorical_accuracy: 0.6250\n",
      "\n",
      "Epoch 00008: saving model to model_gesture_2021-09-2915_48_41.305220/model-00008-1.39890-0.40616-1.32636-0.62500.h5\n",
      "Epoch 9/30\n",
      "21/21 [==============================] - 27s 1s/step - loss: 1.3022 - categorical_accuracy: 0.4986 - val_loss: 1.3490 - val_categorical_accuracy: 0.3125\n",
      "\n",
      "Epoch 00009: saving model to model_gesture_2021-09-2915_48_41.305220/model-00009-1.30217-0.49860-1.34901-0.31250.h5\n",
      "Epoch 10/30\n",
      "21/21 [==============================] - 28s 1s/step - loss: 1.3067 - categorical_accuracy: 0.4678 - val_loss: 1.3607 - val_categorical_accuracy: 0.4375\n",
      "\n",
      "Epoch 00010: saving model to model_gesture_2021-09-2915_48_41.305220/model-00010-1.30670-0.46779-1.36074-0.43750.h5\n",
      "Epoch 11/30\n",
      "21/21 [==============================] - 28s 1s/step - loss: 1.2834 - categorical_accuracy: 0.4986 - val_loss: 1.5059 - val_categorical_accuracy: 0.2500\n",
      "\n",
      "Epoch 00011: saving model to model_gesture_2021-09-2915_48_41.305220/model-00011-1.28340-0.49860-1.50592-0.25000.h5\n",
      "Epoch 12/30\n",
      "21/21 [==============================] - 28s 1s/step - loss: 1.2036 - categorical_accuracy: 0.5574 - val_loss: 1.1843 - val_categorical_accuracy: 0.6875\n",
      "\n",
      "Epoch 00012: saving model to model_gesture_2021-09-2915_48_41.305220/model-00012-1.20365-0.55742-1.18432-0.68750.h5\n",
      "Epoch 13/30\n",
      "21/21 [==============================] - 28s 1s/step - loss: 1.2347 - categorical_accuracy: 0.5014 - val_loss: 1.2228 - val_categorical_accuracy: 0.5625\n",
      "\n",
      "Epoch 00013: saving model to model_gesture_2021-09-2915_48_41.305220/model-00013-1.23469-0.50140-1.22284-0.56250.h5\n",
      "Epoch 14/30\n",
      "21/21 [==============================] - 27s 1s/step - loss: 1.1214 - categorical_accuracy: 0.5882 - val_loss: 1.0710 - val_categorical_accuracy: 0.7500\n",
      "\n",
      "Epoch 00014: saving model to model_gesture_2021-09-2915_48_41.305220/model-00014-1.12139-0.58824-1.07102-0.75000.h5\n",
      "Epoch 15/30\n",
      "21/21 [==============================] - 30s 1s/step - loss: 1.1907 - categorical_accuracy: 0.5546 - val_loss: 1.4021 - val_categorical_accuracy: 0.3750\n",
      "\n",
      "Epoch 00015: saving model to model_gesture_2021-09-2915_48_41.305220/model-00015-1.19074-0.55462-1.40209-0.37500.h5\n",
      "Epoch 16/30\n",
      "21/21 [==============================] - 28s 1s/step - loss: 1.1580 - categorical_accuracy: 0.5518 - val_loss: 1.3471 - val_categorical_accuracy: 0.3750\n",
      "\n",
      "Epoch 00016: saving model to model_gesture_2021-09-2915_48_41.305220/model-00016-1.15805-0.55182-1.34706-0.37500.h5\n",
      "Epoch 17/30\n",
      "21/21 [==============================] - 28s 1s/step - loss: 1.1215 - categorical_accuracy: 0.5854 - val_loss: 1.1652 - val_categorical_accuracy: 0.4375\n",
      "\n",
      "Epoch 00017: saving model to model_gesture_2021-09-2915_48_41.305220/model-00017-1.12151-0.58543-1.16516-0.43750.h5\n",
      "Epoch 18/30\n",
      "21/21 [==============================] - 28s 1s/step - loss: 1.0574 - categorical_accuracy: 0.6134 - val_loss: 1.1385 - val_categorical_accuracy: 0.6250\n",
      "\n",
      "Epoch 00018: saving model to model_gesture_2021-09-2915_48_41.305220/model-00018-1.05744-0.61345-1.13852-0.62500.h5\n",
      "Epoch 19/30\n",
      "21/21 [==============================] - 27s 1s/step - loss: 1.1370 - categorical_accuracy: 0.5686 - val_loss: 0.9919 - val_categorical_accuracy: 0.7500\n",
      "\n",
      "Epoch 00019: saving model to model_gesture_2021-09-2915_48_41.305220/model-00019-1.13704-0.56863-0.99191-0.75000.h5\n",
      "Epoch 20/30\n",
      "21/21 [==============================] - 27s 1s/step - loss: 1.0164 - categorical_accuracy: 0.6246 - val_loss: 1.2249 - val_categorical_accuracy: 0.5000\n",
      "\n",
      "Epoch 00020: saving model to model_gesture_2021-09-2915_48_41.305220/model-00020-1.01635-0.62465-1.22492-0.50000.h5\n",
      "Epoch 21/30\n",
      "21/21 [==============================] - 26s 1s/step - loss: 1.0402 - categorical_accuracy: 0.6022 - val_loss: 1.1437 - val_categorical_accuracy: 0.5625\n",
      "\n",
      "Epoch 00021: saving model to model_gesture_2021-09-2915_48_41.305220/model-00021-1.04024-0.60224-1.14366-0.56250.h5\n",
      "Epoch 22/30\n",
      "21/21 [==============================] - 28s 1s/step - loss: 0.9640 - categorical_accuracy: 0.6303 - val_loss: 0.7565 - val_categorical_accuracy: 0.6875\n",
      "\n",
      "Epoch 00022: saving model to model_gesture_2021-09-2915_48_41.305220/model-00022-0.96403-0.63025-0.75651-0.68750.h5\n",
      "Epoch 23/30\n",
      "21/21 [==============================] - 26s 1s/step - loss: 0.9310 - categorical_accuracy: 0.6695 - val_loss: 1.0624 - val_categorical_accuracy: 0.5625\n",
      "\n",
      "Epoch 00023: saving model to model_gesture_2021-09-2915_48_41.305220/model-00023-0.93100-0.66947-1.06237-0.56250.h5\n",
      "Epoch 24/30\n",
      "21/21 [==============================] - 27s 1s/step - loss: 0.9556 - categorical_accuracy: 0.6667 - val_loss: 1.1090 - val_categorical_accuracy: 0.6875\n",
      "\n",
      "Epoch 00024: saving model to model_gesture_2021-09-2915_48_41.305220/model-00024-0.95563-0.66667-1.10897-0.68750.h5\n",
      "Epoch 25/30\n",
      "21/21 [==============================] - 27s 1s/step - loss: 0.9024 - categorical_accuracy: 0.6695 - val_loss: 1.1546 - val_categorical_accuracy: 0.5000\n",
      "\n",
      "Epoch 00025: saving model to model_gesture_2021-09-2915_48_41.305220/model-00025-0.90236-0.66947-1.15459-0.50000.h5\n",
      "Epoch 26/30\n",
      "21/21 [==============================] - 26s 1s/step - loss: 0.8764 - categorical_accuracy: 0.6975 - val_loss: 1.5224 - val_categorical_accuracy: 0.2500\n",
      "\n",
      "Epoch 00026: saving model to model_gesture_2021-09-2915_48_41.305220/model-00026-0.87636-0.69748-1.52236-0.25000.h5\n",
      "Epoch 27/30\n",
      "21/21 [==============================] - 27s 1s/step - loss: 0.8203 - categorical_accuracy: 0.7591 - val_loss: 1.0195 - val_categorical_accuracy: 0.6250\n",
      "\n",
      "Epoch 00027: saving model to model_gesture_2021-09-2915_48_41.305220/model-00027-0.82034-0.75910-1.01953-0.62500.h5\n",
      "\n",
      "Epoch 00027: ReduceLROnPlateau reducing learning rate to 4.9999998882412914e-05.\n",
      "Epoch 28/30\n",
      "21/21 [==============================] - 27s 1s/step - loss: 0.7999 - categorical_accuracy: 0.7423 - val_loss: 0.7635 - val_categorical_accuracy: 0.8125\n",
      "\n",
      "Epoch 00028: saving model to model_gesture_2021-09-2915_48_41.305220/model-00028-0.79994-0.74230-0.76347-0.81250.h5\n",
      "Epoch 29/30\n",
      "21/21 [==============================] - 28s 1s/step - loss: 0.8012 - categorical_accuracy: 0.7423 - val_loss: 0.8525 - val_categorical_accuracy: 0.6875\n",
      "\n",
      "Epoch 00029: saving model to model_gesture_2021-09-2915_48_41.305220/model-00029-0.80120-0.74230-0.85249-0.68750.h5\n",
      "Epoch 30/30\n",
      "21/21 [==============================] - 26s 1s/step - loss: 0.7558 - categorical_accuracy: 0.7479 - val_loss: 0.8033 - val_categorical_accuracy: 0.6875\n",
      "\n",
      "Epoch 00030: saving model to model_gesture_2021-09-2915_48_41.305220/model-00030-0.75583-0.74790-0.80330-0.68750.h5\n"
     ]
    },
    {
     "data": {
      "text/plain": [
       "<keras.callbacks.History at 0x7f49550c2c50>"
      ]
     },
     "execution_count": 39,
     "metadata": {},
     "output_type": "execute_result"
    }
   ],
   "source": [
    "model.fit_generator(train_generator, steps_per_epoch=steps_per_epoch, epochs=num_epochs, verbose=1, \n",
    "                    callbacks=callbacks_list, validation_data=val_generator, \n",
    "                    validation_steps=validation_steps, class_weight=None, workers=1, initial_epoch=0)"
   ]
  },
  {
   "cell_type": "code",
   "execution_count": null,
   "metadata": {
    "id": "feSNyvFnY7ox"
   },
   "outputs": [],
   "source": [
    "shutil.rmtree('/content/model_gesture_2021-09-2906_34_24.005771')"
   ]
  },
  {
   "cell_type": "markdown",
   "metadata": {
    "id": "iy0FVsKosnD0"
   },
   "source": [
    "##Model 6\n",
    "GRU with CNN"
   ]
  },
  {
   "cell_type": "code",
   "execution_count": 40,
   "metadata": {
    "colab": {
     "base_uri": "https://localhost:8080/"
    },
    "id": "oyjUJm00qwl3",
    "outputId": "17f891c1-a246-4ac6-8a9e-58515bf91e95"
   },
   "outputs": [
    {
     "name": "stdout",
     "output_type": "stream",
     "text": [
      "Model: \"sequential_7\"\n",
      "_________________________________________________________________\n",
      "Layer (type)                 Output Shape              Param #   \n",
      "=================================================================\n",
      "time_distributed_127 (TimeDi (None, 18, 120, 120, 16)  448       \n",
      "_________________________________________________________________\n",
      "time_distributed_128 (TimeDi (None, 18, 120, 120, 16)  64        \n",
      "_________________________________________________________________\n",
      "time_distributed_129 (TimeDi (None, 18, 60, 60, 16)    0         \n",
      "_________________________________________________________________\n",
      "time_distributed_130 (TimeDi (None, 18, 60, 60, 32)    4640      \n",
      "_________________________________________________________________\n",
      "time_distributed_131 (TimeDi (None, 18, 60, 60, 32)    128       \n",
      "_________________________________________________________________\n",
      "time_distributed_132 (TimeDi (None, 18, 30, 30, 32)    0         \n",
      "_________________________________________________________________\n",
      "time_distributed_133 (TimeDi (None, 18, 30, 30, 64)    18496     \n",
      "_________________________________________________________________\n",
      "time_distributed_134 (TimeDi (None, 18, 30, 30, 64)    256       \n",
      "_________________________________________________________________\n",
      "time_distributed_135 (TimeDi (None, 18, 15, 15, 64)    0         \n",
      "_________________________________________________________________\n",
      "time_distributed_136 (TimeDi (None, 18, 15, 15, 128)   73856     \n",
      "_________________________________________________________________\n",
      "time_distributed_137 (TimeDi (None, 18, 15, 15, 128)   512       \n",
      "_________________________________________________________________\n",
      "time_distributed_138 (TimeDi (None, 18, 7, 7, 128)     0         \n",
      "_________________________________________________________________\n",
      "time_distributed_139 (TimeDi (None, 18, 7, 7, 256)     295168    \n",
      "_________________________________________________________________\n",
      "time_distributed_140 (TimeDi (None, 18, 7, 7, 256)     1024      \n",
      "_________________________________________________________________\n",
      "time_distributed_141 (TimeDi (None, 18, 3, 3, 256)     0         \n",
      "_________________________________________________________________\n",
      "time_distributed_142 (TimeDi (None, 18, 2, 2, 512)     524800    \n",
      "_________________________________________________________________\n",
      "time_distributed_143 (TimeDi (None, 18, 2, 2, 512)     2048      \n",
      "_________________________________________________________________\n",
      "time_distributed_144 (TimeDi (None, 18, 1, 1, 512)     0         \n",
      "_________________________________________________________________\n",
      "time_distributed_145 (TimeDi (None, 18, 512)           0         \n",
      "_________________________________________________________________\n",
      "gru (GRU)                    (None, 64)                110976    \n",
      "_________________________________________________________________\n",
      "dropout_14 (Dropout)         (None, 64)                0         \n",
      "_________________________________________________________________\n",
      "dense_14 (Dense)             (None, 256)               16640     \n",
      "_________________________________________________________________\n",
      "dropout_15 (Dropout)         (None, 256)               0         \n",
      "_________________________________________________________________\n",
      "dense_15 (Dense)             (None, 5)                 1285      \n",
      "=================================================================\n",
      "Total params: 1,050,341\n",
      "Trainable params: 1,048,325\n",
      "Non-trainable params: 2,016\n",
      "_________________________________________________________________\n",
      "None\n"
     ]
    }
   ],
   "source": [
    "input_shape=(x,y,z,channel)\n",
    "lstm_cells=64\n",
    "dense_neurons=256\n",
    "dropout=0.3\n",
    "nb_classes = 5\n",
    "model = Sequential()\n",
    "\n",
    "model.add(TimeDistributed(Conv2D(16, (3, 3) , padding='same', activation='relu'), input_shape=input_shape))\n",
    "model.add(TimeDistributed(BatchNormalization(momentum=0.8)))\n",
    "model.add(TimeDistributed(MaxPooling2D((2, 2))))\n",
    "\n",
    "model.add(TimeDistributed(Conv2D(32, (3, 3) , padding='same', activation='relu')))\n",
    "model.add(TimeDistributed(BatchNormalization(momentum=0.8)))\n",
    "model.add(TimeDistributed(MaxPooling2D((2, 2))))\n",
    "\n",
    "model.add(TimeDistributed(Conv2D(64, (3, 3) , padding='same', activation='relu')))\n",
    "model.add(TimeDistributed(BatchNormalization(momentum=0.8)))\n",
    "model.add(TimeDistributed(MaxPooling2D((2, 2))))\n",
    "\n",
    "model.add(TimeDistributed(Conv2D(128, (3, 3) , padding='same', activation='relu')))\n",
    "model.add(TimeDistributed(BatchNormalization(momentum=0.8)))\n",
    "model.add(TimeDistributed(MaxPooling2D((2, 2))))\n",
    "\n",
    "model.add(TimeDistributed(Conv2D(256, (3, 3) , padding='same', activation='relu')))\n",
    "model.add(TimeDistributed(BatchNormalization(momentum=0.8)))\n",
    "model.add(TimeDistributed(MaxPooling2D((2, 2))))\n",
    "\n",
    "model.add(TimeDistributed(Conv2D(512, (2, 2) , padding='valid', activation='relu')))\n",
    "model.add(TimeDistributed(BatchNormalization(momentum=0.8)))\n",
    "model.add(TimeDistributed(MaxPooling2D((2, 2))))\n",
    "\n",
    "model.add(TimeDistributed(Flatten()))\n",
    "\n",
    "\n",
    "model.add(GRU(lstm_cells))\n",
    "model.add(Dropout(dropout))\n",
    "\n",
    "model.add(Dense(dense_neurons,activation='relu', kernel_regularizer = tf.keras.regularizers.l2(0.0001)))\n",
    "model.add(Dropout(dropout))\n",
    "\n",
    "model.add(Dense(nb_classes, activation='softmax'))\n",
    "optimiser = tf.keras.optimizers.Adam(lr=0.0002)\n",
    "model.compile(optimizer=optimiser, loss='categorical_crossentropy', metrics=['categorical_accuracy'])\n",
    "print(model.summary())"
   ]
  },
  {
   "cell_type": "code",
   "execution_count": 41,
   "metadata": {
    "colab": {
     "base_uri": "https://localhost:8080/"
    },
    "id": "gyY5gL1HtP5E",
    "outputId": "e99afa16-f5ba-41e9-84e7-0b35af1f210f"
   },
   "outputs": [
    {
     "name": "stdout",
     "output_type": "stream",
     "text": [
      "WARNING:tensorflow:`period` argument is deprecated. Please use `save_freq` to specify the frequency in number of batches seen.\n",
      "WARNING:tensorflow:`epsilon` argument is deprecated and will be removed, use `min_delta` instead.\n"
     ]
    }
   ],
   "source": [
    "model_name = 'model_gesture' + '_' + str(curr_dt_time).replace(' ','').replace(':','_') + '/'\n",
    "    \n",
    "if not os.path.exists(model_name):\n",
    "    os.mkdir(model_name)\n",
    "        \n",
    "filepath = model_name + 'model-{epoch:05d}-{loss:.5f}-{categorical_accuracy:.5f}-{val_loss:.5f}-{val_categorical_accuracy:.5f}.h5'\n",
    "\n",
    "checkpoint = ModelCheckpoint(filepath, monitor='val_loss', verbose=1, save_best_only=False, save_weights_only=False, mode='auto', period=1)\n",
    "\n",
    "LR = ReduceLROnPlateau(monitor='val_loss', factor=0.01, patience=5, cooldown=4, verbose=1,mode='auto',epsilon=0.0001) # write the REducelronplateau code here\n",
    "callbacks_list = [checkpoint, LR]"
   ]
  },
  {
   "cell_type": "code",
   "execution_count": 42,
   "metadata": {
    "colab": {
     "base_uri": "https://localhost:8080/"
    },
    "id": "7QoECVsjthFg",
    "outputId": "2d0c7f67-73b6-443f-95bb-2a9a170ebb4f"
   },
   "outputs": [
    {
     "name": "stdout",
     "output_type": "stream",
     "text": [
      "Epoch 1/30\n",
      "21/21 [==============================] - 33s 1s/step - loss: 1.5268 - categorical_accuracy: 0.3137 - val_loss: 1.5955 - val_categorical_accuracy: 0.2500\n",
      "\n",
      "Epoch 00001: saving model to model_gesture_2021-09-2915_48_41.305220/model-00001-1.52680-0.31373-1.59551-0.25000.h5\n",
      "Epoch 2/30\n",
      "21/21 [==============================] - 26s 1s/step - loss: 1.3001 - categorical_accuracy: 0.4230 - val_loss: 0.9869 - val_categorical_accuracy: 0.6875\n",
      "\n",
      "Epoch 00002: saving model to model_gesture_2021-09-2915_48_41.305220/model-00002-1.30012-0.42297-0.98688-0.68750.h5\n",
      "Epoch 3/30\n",
      "21/21 [==============================] - 27s 1s/step - loss: 1.0522 - categorical_accuracy: 0.5938 - val_loss: 1.0562 - val_categorical_accuracy: 0.5625\n",
      "\n",
      "Epoch 00003: saving model to model_gesture_2021-09-2915_48_41.305220/model-00003-1.05223-0.59384-1.05624-0.56250.h5\n",
      "Epoch 4/30\n",
      "21/21 [==============================] - 26s 1s/step - loss: 0.9809 - categorical_accuracy: 0.6527 - val_loss: 1.0840 - val_categorical_accuracy: 0.5625\n",
      "\n",
      "Epoch 00004: saving model to model_gesture_2021-09-2915_48_41.305220/model-00004-0.98089-0.65266-1.08402-0.56250.h5\n",
      "Epoch 5/30\n",
      "21/21 [==============================] - 26s 1s/step - loss: 0.8525 - categorical_accuracy: 0.7115 - val_loss: 0.8737 - val_categorical_accuracy: 0.6250\n",
      "\n",
      "Epoch 00005: saving model to model_gesture_2021-09-2915_48_41.305220/model-00005-0.85253-0.71148-0.87371-0.62500.h5\n",
      "Epoch 6/30\n",
      "21/21 [==============================] - 25s 1s/step - loss: 0.6604 - categorical_accuracy: 0.7899 - val_loss: 0.7876 - val_categorical_accuracy: 0.7500\n",
      "\n",
      "Epoch 00006: saving model to model_gesture_2021-09-2915_48_41.305220/model-00006-0.66040-0.78992-0.78761-0.75000.h5\n",
      "Epoch 7/30\n",
      "21/21 [==============================] - 27s 1s/step - loss: 0.5919 - categorical_accuracy: 0.8151 - val_loss: 0.9940 - val_categorical_accuracy: 0.6875\n",
      "\n",
      "Epoch 00007: saving model to model_gesture_2021-09-2915_48_41.305220/model-00007-0.59194-0.81513-0.99402-0.68750.h5\n",
      "Epoch 8/30\n",
      "21/21 [==============================] - 27s 1s/step - loss: 0.4984 - categorical_accuracy: 0.8543 - val_loss: 0.6870 - val_categorical_accuracy: 0.8125\n",
      "\n",
      "Epoch 00008: saving model to model_gesture_2021-09-2915_48_41.305220/model-00008-0.49838-0.85434-0.68702-0.81250.h5\n",
      "Epoch 9/30\n",
      "21/21 [==============================] - 25s 1s/step - loss: 0.4509 - categorical_accuracy: 0.8796 - val_loss: 0.7355 - val_categorical_accuracy: 0.8125\n",
      "\n",
      "Epoch 00009: saving model to model_gesture_2021-09-2915_48_41.305220/model-00009-0.45095-0.87955-0.73546-0.81250.h5\n",
      "Epoch 10/30\n",
      "21/21 [==============================] - 26s 1s/step - loss: 0.3778 - categorical_accuracy: 0.9076 - val_loss: 1.3875 - val_categorical_accuracy: 0.4375\n",
      "\n",
      "Epoch 00010: saving model to model_gesture_2021-09-2915_48_41.305220/model-00010-0.37781-0.90756-1.38745-0.43750.h5\n",
      "Epoch 11/30\n",
      "21/21 [==============================] - 27s 1s/step - loss: 0.2855 - categorical_accuracy: 0.9440 - val_loss: 0.8410 - val_categorical_accuracy: 0.7500\n",
      "\n",
      "Epoch 00011: saving model to model_gesture_2021-09-2915_48_41.305220/model-00011-0.28546-0.94398-0.84104-0.75000.h5\n",
      "Epoch 12/30\n",
      "21/21 [==============================] - 26s 1s/step - loss: 0.2151 - categorical_accuracy: 0.9580 - val_loss: 0.4979 - val_categorical_accuracy: 0.7500\n",
      "\n",
      "Epoch 00012: saving model to model_gesture_2021-09-2915_48_41.305220/model-00012-0.21506-0.95798-0.49789-0.75000.h5\n",
      "Epoch 13/30\n",
      "21/21 [==============================] - 26s 1s/step - loss: 0.1775 - categorical_accuracy: 0.9692 - val_loss: 1.0494 - val_categorical_accuracy: 0.6875\n",
      "\n",
      "Epoch 00013: saving model to model_gesture_2021-09-2915_48_41.305220/model-00013-0.17746-0.96919-1.04939-0.68750.h5\n",
      "Epoch 14/30\n",
      "21/21 [==============================] - 26s 1s/step - loss: 0.1298 - categorical_accuracy: 0.9804 - val_loss: 0.9722 - val_categorical_accuracy: 0.6875\n",
      "\n",
      "Epoch 00014: saving model to model_gesture_2021-09-2915_48_41.305220/model-00014-0.12981-0.98039-0.97217-0.68750.h5\n",
      "Epoch 15/30\n",
      "21/21 [==============================] - 25s 1s/step - loss: 0.1107 - categorical_accuracy: 0.9916 - val_loss: 0.4411 - val_categorical_accuracy: 0.8750\n",
      "\n",
      "Epoch 00015: saving model to model_gesture_2021-09-2915_48_41.305220/model-00015-0.11066-0.99160-0.44109-0.87500.h5\n",
      "Epoch 16/30\n",
      "21/21 [==============================] - 25s 1s/step - loss: 0.0883 - categorical_accuracy: 0.9888 - val_loss: 0.9913 - val_categorical_accuracy: 0.6250\n",
      "\n",
      "Epoch 00016: saving model to model_gesture_2021-09-2915_48_41.305220/model-00016-0.08831-0.98880-0.99129-0.62500.h5\n",
      "Epoch 17/30\n",
      "21/21 [==============================] - 28s 1s/step - loss: 0.0728 - categorical_accuracy: 0.9972 - val_loss: 0.6798 - val_categorical_accuracy: 0.8125\n",
      "\n",
      "Epoch 00017: saving model to model_gesture_2021-09-2915_48_41.305220/model-00017-0.07277-0.99720-0.67983-0.81250.h5\n",
      "Epoch 18/30\n",
      "21/21 [==============================] - 26s 1s/step - loss: 0.0601 - categorical_accuracy: 0.9972 - val_loss: 0.8420 - val_categorical_accuracy: 0.7500\n",
      "\n",
      "Epoch 00018: saving model to model_gesture_2021-09-2915_48_41.305220/model-00018-0.06009-0.99720-0.84202-0.75000.h5\n",
      "Epoch 19/30\n",
      "21/21 [==============================] - 25s 1s/step - loss: 0.0669 - categorical_accuracy: 0.9944 - val_loss: 1.1090 - val_categorical_accuracy: 0.5625\n",
      "\n",
      "Epoch 00019: saving model to model_gesture_2021-09-2915_48_41.305220/model-00019-0.06687-0.99440-1.10903-0.56250.h5\n",
      "Epoch 20/30\n",
      "21/21 [==============================] - 26s 1s/step - loss: 0.0572 - categorical_accuracy: 0.9972 - val_loss: 0.6111 - val_categorical_accuracy: 0.7500\n",
      "\n",
      "Epoch 00020: saving model to model_gesture_2021-09-2915_48_41.305220/model-00020-0.05721-0.99720-0.61109-0.75000.h5\n",
      "\n",
      "Epoch 00020: ReduceLROnPlateau reducing learning rate to 1.9999999494757505e-06.\n",
      "Epoch 21/30\n",
      "21/21 [==============================] - 27s 1s/step - loss: 0.0664 - categorical_accuracy: 0.9916 - val_loss: 0.6139 - val_categorical_accuracy: 0.7500\n",
      "\n",
      "Epoch 00021: saving model to model_gesture_2021-09-2915_48_41.305220/model-00021-0.06643-0.99160-0.61392-0.75000.h5\n",
      "Epoch 22/30\n",
      "21/21 [==============================] - 25s 1s/step - loss: 0.0504 - categorical_accuracy: 1.0000 - val_loss: 1.0344 - val_categorical_accuracy: 0.6875\n",
      "\n",
      "Epoch 00022: saving model to model_gesture_2021-09-2915_48_41.305220/model-00022-0.05040-1.00000-1.03439-0.68750.h5\n",
      "Epoch 23/30\n",
      "21/21 [==============================] - 27s 1s/step - loss: 0.0448 - categorical_accuracy: 1.0000 - val_loss: 0.8347 - val_categorical_accuracy: 0.6875\n",
      "\n",
      "Epoch 00023: saving model to model_gesture_2021-09-2915_48_41.305220/model-00023-0.04480-1.00000-0.83474-0.68750.h5\n",
      "Epoch 24/30\n",
      "21/21 [==============================] - 26s 1s/step - loss: 0.0440 - categorical_accuracy: 0.9972 - val_loss: 0.8031 - val_categorical_accuracy: 0.8125\n",
      "\n",
      "Epoch 00024: saving model to model_gesture_2021-09-2915_48_41.305220/model-00024-0.04396-0.99720-0.80307-0.81250.h5\n",
      "Epoch 25/30\n",
      "21/21 [==============================] - 26s 1s/step - loss: 0.0454 - categorical_accuracy: 0.9944 - val_loss: 0.9192 - val_categorical_accuracy: 0.8125\n",
      "\n",
      "Epoch 00025: saving model to model_gesture_2021-09-2915_48_41.305220/model-00025-0.04540-0.99440-0.91916-0.81250.h5\n",
      "Epoch 26/30\n",
      "21/21 [==============================] - 26s 1s/step - loss: 0.0495 - categorical_accuracy: 0.9944 - val_loss: 0.7086 - val_categorical_accuracy: 0.8125\n",
      "\n",
      "Epoch 00026: saving model to model_gesture_2021-09-2915_48_41.305220/model-00026-0.04954-0.99440-0.70863-0.81250.h5\n",
      "Epoch 27/30\n",
      "21/21 [==============================] - 27s 1s/step - loss: 0.0526 - categorical_accuracy: 0.9972 - val_loss: 0.8061 - val_categorical_accuracy: 0.6875\n",
      "\n",
      "Epoch 00027: saving model to model_gesture_2021-09-2915_48_41.305220/model-00027-0.05258-0.99720-0.80609-0.68750.h5\n",
      "Epoch 28/30\n",
      "21/21 [==============================] - 25s 1s/step - loss: 0.0484 - categorical_accuracy: 0.9972 - val_loss: 1.2637 - val_categorical_accuracy: 0.6250\n",
      "\n",
      "Epoch 00028: saving model to model_gesture_2021-09-2915_48_41.305220/model-00028-0.04840-0.99720-1.26369-0.62500.h5\n",
      "\n",
      "Epoch 00028: ReduceLROnPlateau reducing learning rate to 1.9999999949504856e-08.\n",
      "Epoch 29/30\n",
      "21/21 [==============================] - 28s 1s/step - loss: 0.0390 - categorical_accuracy: 1.0000 - val_loss: 0.9587 - val_categorical_accuracy: 0.6250\n",
      "\n",
      "Epoch 00029: saving model to model_gesture_2021-09-2915_48_41.305220/model-00029-0.03904-1.00000-0.95866-0.62500.h5\n",
      "Epoch 30/30\n",
      "21/21 [==============================] - 25s 1s/step - loss: 0.0452 - categorical_accuracy: 0.9972 - val_loss: 0.4849 - val_categorical_accuracy: 0.8125\n",
      "\n",
      "Epoch 00030: saving model to model_gesture_2021-09-2915_48_41.305220/model-00030-0.04519-0.99720-0.48486-0.81250.h5\n"
     ]
    },
    {
     "data": {
      "text/plain": [
       "<keras.callbacks.History at 0x7f49557839d0>"
      ]
     },
     "execution_count": 42,
     "metadata": {},
     "output_type": "execute_result"
    }
   ],
   "source": [
    "model.fit_generator(train_generator, steps_per_epoch=steps_per_epoch, epochs=num_epochs, verbose=1, \n",
    "                    callbacks=callbacks_list, validation_data=val_generator, \n",
    "                    validation_steps=validation_steps, class_weight=None, workers=1, initial_epoch=0)"
   ]
  },
  {
   "cell_type": "code",
   "execution_count": null,
   "metadata": {
    "id": "SSaNs17Xa_4y"
   },
   "outputs": [],
   "source": [
    "shutil.rmtree('/content/model_gesture_2021-09-2906_34_24.005771')"
   ]
  },
  {
   "cell_type": "markdown",
   "metadata": {
    "id": "a2pzBIL8e7Iv"
   },
   "source": [
    "##Model 7\n",
    "GRU with CNN and Dropout increased from 0.3 to 0.5"
   ]
  },
  {
   "cell_type": "code",
   "execution_count": 43,
   "metadata": {
    "colab": {
     "base_uri": "https://localhost:8080/"
    },
    "id": "VA1h02vMfNkV",
    "outputId": "b9b6b736-8cfe-451c-e846-70b101fd4a94"
   },
   "outputs": [
    {
     "name": "stdout",
     "output_type": "stream",
     "text": [
      "Model: \"sequential_8\"\n",
      "_________________________________________________________________\n",
      "Layer (type)                 Output Shape              Param #   \n",
      "=================================================================\n",
      "time_distributed_146 (TimeDi (None, 18, 120, 120, 16)  448       \n",
      "_________________________________________________________________\n",
      "time_distributed_147 (TimeDi (None, 18, 120, 120, 16)  64        \n",
      "_________________________________________________________________\n",
      "time_distributed_148 (TimeDi (None, 18, 60, 60, 16)    0         \n",
      "_________________________________________________________________\n",
      "time_distributed_149 (TimeDi (None, 18, 60, 60, 32)    4640      \n",
      "_________________________________________________________________\n",
      "time_distributed_150 (TimeDi (None, 18, 60, 60, 32)    128       \n",
      "_________________________________________________________________\n",
      "time_distributed_151 (TimeDi (None, 18, 30, 30, 32)    0         \n",
      "_________________________________________________________________\n",
      "time_distributed_152 (TimeDi (None, 18, 30, 30, 64)    18496     \n",
      "_________________________________________________________________\n",
      "time_distributed_153 (TimeDi (None, 18, 30, 30, 64)    256       \n",
      "_________________________________________________________________\n",
      "time_distributed_154 (TimeDi (None, 18, 15, 15, 64)    0         \n",
      "_________________________________________________________________\n",
      "time_distributed_155 (TimeDi (None, 18, 15, 15, 128)   73856     \n",
      "_________________________________________________________________\n",
      "time_distributed_156 (TimeDi (None, 18, 15, 15, 128)   512       \n",
      "_________________________________________________________________\n",
      "time_distributed_157 (TimeDi (None, 18, 7, 7, 128)     0         \n",
      "_________________________________________________________________\n",
      "time_distributed_158 (TimeDi (None, 18, 7, 7, 256)     295168    \n",
      "_________________________________________________________________\n",
      "time_distributed_159 (TimeDi (None, 18, 7, 7, 256)     1024      \n",
      "_________________________________________________________________\n",
      "time_distributed_160 (TimeDi (None, 18, 3, 3, 256)     0         \n",
      "_________________________________________________________________\n",
      "time_distributed_161 (TimeDi (None, 18, 2, 2, 512)     524800    \n",
      "_________________________________________________________________\n",
      "time_distributed_162 (TimeDi (None, 18, 2, 2, 512)     2048      \n",
      "_________________________________________________________________\n",
      "time_distributed_163 (TimeDi (None, 18, 1, 1, 512)     0         \n",
      "_________________________________________________________________\n",
      "time_distributed_164 (TimeDi (None, 18, 512)           0         \n",
      "_________________________________________________________________\n",
      "gru_1 (GRU)                  (None, 64)                110976    \n",
      "_________________________________________________________________\n",
      "dropout_16 (Dropout)         (None, 64)                0         \n",
      "_________________________________________________________________\n",
      "dense_16 (Dense)             (None, 256)               16640     \n",
      "_________________________________________________________________\n",
      "dropout_17 (Dropout)         (None, 256)               0         \n",
      "_________________________________________________________________\n",
      "dense_17 (Dense)             (None, 5)                 1285      \n",
      "=================================================================\n",
      "Total params: 1,050,341\n",
      "Trainable params: 1,048,325\n",
      "Non-trainable params: 2,016\n",
      "_________________________________________________________________\n",
      "None\n"
     ]
    }
   ],
   "source": [
    "input_shape=(x,y,z,channel)\n",
    "lstm_cells=64\n",
    "dense_neurons=256\n",
    "dropout=0.5\n",
    "nb_classes = 5\n",
    "model = Sequential()\n",
    "\n",
    "model.add(TimeDistributed(Conv2D(16, (3, 3) , padding='same', activation='relu'), input_shape=input_shape))\n",
    "model.add(TimeDistributed(BatchNormalization(momentum=0.8)))\n",
    "model.add(TimeDistributed(MaxPooling2D((2, 2))))\n",
    "\n",
    "model.add(TimeDistributed(Conv2D(32, (3, 3) , padding='same', activation='relu')))\n",
    "model.add(TimeDistributed(BatchNormalization(momentum=0.8)))\n",
    "model.add(TimeDistributed(MaxPooling2D((2, 2))))\n",
    "\n",
    "model.add(TimeDistributed(Conv2D(64, (3, 3) , padding='same', activation='relu')))\n",
    "model.add(TimeDistributed(BatchNormalization(momentum=0.8)))\n",
    "model.add(TimeDistributed(MaxPooling2D((2, 2))))\n",
    "\n",
    "model.add(TimeDistributed(Conv2D(128, (3, 3) , padding='same', activation='relu')))\n",
    "model.add(TimeDistributed(BatchNormalization(momentum=0.8)))\n",
    "model.add(TimeDistributed(MaxPooling2D((2, 2))))\n",
    "\n",
    "model.add(TimeDistributed(Conv2D(256, (3, 3) , padding='same', activation='relu')))\n",
    "model.add(TimeDistributed(BatchNormalization(momentum=0.8)))\n",
    "model.add(TimeDistributed(MaxPooling2D((2, 2))))\n",
    "\n",
    "model.add(TimeDistributed(Conv2D(512, (2, 2) , padding='valid', activation='relu')))\n",
    "model.add(TimeDistributed(BatchNormalization(momentum=0.8)))\n",
    "model.add(TimeDistributed(MaxPooling2D((2, 2))))\n",
    "\n",
    "model.add(TimeDistributed(Flatten()))\n",
    "\n",
    "\n",
    "model.add(GRU(lstm_cells))\n",
    "model.add(Dropout(dropout))\n",
    "\n",
    "model.add(Dense(dense_neurons,activation='relu', kernel_regularizer = tf.keras.regularizers.l2(0.0001)))\n",
    "model.add(Dropout(dropout))\n",
    "\n",
    "model.add(Dense(nb_classes, activation='softmax'))\n",
    "optimiser = tf.keras.optimizers.Adam(lr=0.0002)\n",
    "model.compile(optimizer=optimiser, loss='categorical_crossentropy', metrics=['categorical_accuracy'])\n",
    "print(model.summary())"
   ]
  },
  {
   "cell_type": "code",
   "execution_count": 44,
   "metadata": {
    "colab": {
     "base_uri": "https://localhost:8080/"
    },
    "id": "yiVbUUDgfTOl",
    "outputId": "06a0fae7-acad-414f-829e-a61ae7c4a5d9"
   },
   "outputs": [
    {
     "name": "stdout",
     "output_type": "stream",
     "text": [
      "WARNING:tensorflow:`period` argument is deprecated. Please use `save_freq` to specify the frequency in number of batches seen.\n",
      "WARNING:tensorflow:`epsilon` argument is deprecated and will be removed, use `min_delta` instead.\n"
     ]
    }
   ],
   "source": [
    "model_name = 'model_gesture' + '_' + str(curr_dt_time).replace(' ','').replace(':','_') + '/'\n",
    "    \n",
    "if not os.path.exists(model_name):\n",
    "    os.mkdir(model_name)\n",
    "        \n",
    "filepath = model_name + 'model-{epoch:05d}-{loss:.5f}-{categorical_accuracy:.5f}-{val_loss:.5f}-{val_categorical_accuracy:.5f}.h5'\n",
    "\n",
    "checkpoint = ModelCheckpoint(filepath, monitor='val_loss', verbose=1, save_best_only=False, save_weights_only=False, mode='auto', period=1)\n",
    "\n",
    "LR = ReduceLROnPlateau(monitor='val_loss', factor=0.01, patience=5, cooldown=4, verbose=1,mode='auto',epsilon=0.0001) # write the REducelronplateau code here\n",
    "callbacks_list = [checkpoint, LR]"
   ]
  },
  {
   "cell_type": "code",
   "execution_count": 45,
   "metadata": {
    "colab": {
     "base_uri": "https://localhost:8080/"
    },
    "id": "tTl8PPbNfYCO",
    "outputId": "746350d2-5b2c-4626-d16c-e2d6be67b82f"
   },
   "outputs": [
    {
     "name": "stdout",
     "output_type": "stream",
     "text": [
      "Epoch 1/30\n",
      "21/21 [==============================] - 30s 1s/step - loss: 1.7378 - categorical_accuracy: 0.2577 - val_loss: 1.5459 - val_categorical_accuracy: 0.3125\n",
      "\n",
      "Epoch 00001: saving model to model_gesture_2021-09-2915_48_41.305220/model-00001-1.73779-0.25770-1.54589-0.31250.h5\n",
      "Epoch 2/30\n",
      "21/21 [==============================] - 27s 1s/step - loss: 1.5781 - categorical_accuracy: 0.3081 - val_loss: 1.2498 - val_categorical_accuracy: 0.5625\n",
      "\n",
      "Epoch 00002: saving model to model_gesture_2021-09-2915_48_41.305220/model-00002-1.57812-0.30812-1.24985-0.56250.h5\n",
      "Epoch 3/30\n",
      "21/21 [==============================] - 26s 1s/step - loss: 1.4277 - categorical_accuracy: 0.4090 - val_loss: 1.2174 - val_categorical_accuracy: 0.6250\n",
      "\n",
      "Epoch 00003: saving model to model_gesture_2021-09-2915_48_41.305220/model-00003-1.42765-0.40896-1.21739-0.62500.h5\n",
      "Epoch 4/30\n",
      "21/21 [==============================] - 28s 1s/step - loss: 1.2850 - categorical_accuracy: 0.4706 - val_loss: 1.2289 - val_categorical_accuracy: 0.6250\n",
      "\n",
      "Epoch 00004: saving model to model_gesture_2021-09-2915_48_41.305220/model-00004-1.28501-0.47059-1.22890-0.62500.h5\n",
      "Epoch 5/30\n",
      "21/21 [==============================] - 26s 1s/step - loss: 1.2994 - categorical_accuracy: 0.4202 - val_loss: 1.1639 - val_categorical_accuracy: 0.5625\n",
      "\n",
      "Epoch 00005: saving model to model_gesture_2021-09-2915_48_41.305220/model-00005-1.29937-0.42017-1.16385-0.56250.h5\n",
      "Epoch 6/30\n",
      "21/21 [==============================] - 27s 1s/step - loss: 1.1712 - categorical_accuracy: 0.5238 - val_loss: 1.1364 - val_categorical_accuracy: 0.5000\n",
      "\n",
      "Epoch 00006: saving model to model_gesture_2021-09-2915_48_41.305220/model-00006-1.17122-0.52381-1.13638-0.50000.h5\n",
      "Epoch 7/30\n",
      "21/21 [==============================] - 26s 1s/step - loss: 1.1242 - categorical_accuracy: 0.5518 - val_loss: 1.1337 - val_categorical_accuracy: 0.5000\n",
      "\n",
      "Epoch 00007: saving model to model_gesture_2021-09-2915_48_41.305220/model-00007-1.12422-0.55182-1.13371-0.50000.h5\n",
      "Epoch 8/30\n",
      "21/21 [==============================] - 26s 1s/step - loss: 0.9677 - categorical_accuracy: 0.6331 - val_loss: 1.0610 - val_categorical_accuracy: 0.4375\n",
      "\n",
      "Epoch 00008: saving model to model_gesture_2021-09-2915_48_41.305220/model-00008-0.96768-0.63305-1.06098-0.43750.h5\n",
      "Epoch 9/30\n",
      "21/21 [==============================] - 26s 1s/step - loss: 0.9955 - categorical_accuracy: 0.6134 - val_loss: 1.1791 - val_categorical_accuracy: 0.4375\n",
      "\n",
      "Epoch 00009: saving model to model_gesture_2021-09-2915_48_41.305220/model-00009-0.99554-0.61345-1.17911-0.43750.h5\n",
      "Epoch 10/30\n",
      "21/21 [==============================] - 25s 1s/step - loss: 0.8259 - categorical_accuracy: 0.7171 - val_loss: 0.8024 - val_categorical_accuracy: 0.8125\n",
      "\n",
      "Epoch 00010: saving model to model_gesture_2021-09-2915_48_41.305220/model-00010-0.82588-0.71709-0.80241-0.81250.h5\n",
      "Epoch 11/30\n",
      "21/21 [==============================] - 27s 1s/step - loss: 0.7950 - categorical_accuracy: 0.7003 - val_loss: 1.2892 - val_categorical_accuracy: 0.5000\n",
      "\n",
      "Epoch 00011: saving model to model_gesture_2021-09-2915_48_41.305220/model-00011-0.79501-0.70028-1.28923-0.50000.h5\n",
      "Epoch 12/30\n",
      "21/21 [==============================] - 27s 1s/step - loss: 0.6687 - categorical_accuracy: 0.7591 - val_loss: 0.8350 - val_categorical_accuracy: 0.7500\n",
      "\n",
      "Epoch 00012: saving model to model_gesture_2021-09-2915_48_41.305220/model-00012-0.66866-0.75910-0.83499-0.75000.h5\n",
      "Epoch 13/30\n",
      "21/21 [==============================] - 26s 1s/step - loss: 0.6088 - categorical_accuracy: 0.7871 - val_loss: 0.8856 - val_categorical_accuracy: 0.6875\n",
      "\n",
      "Epoch 00013: saving model to model_gesture_2021-09-2915_48_41.305220/model-00013-0.60881-0.78711-0.88556-0.68750.h5\n",
      "Epoch 14/30\n",
      "21/21 [==============================] - 27s 1s/step - loss: 0.5261 - categorical_accuracy: 0.8291 - val_loss: 0.7039 - val_categorical_accuracy: 0.7500\n",
      "\n",
      "Epoch 00014: saving model to model_gesture_2021-09-2915_48_41.305220/model-00014-0.52610-0.82913-0.70392-0.75000.h5\n",
      "Epoch 15/30\n",
      "21/21 [==============================] - 25s 1s/step - loss: 0.5155 - categorical_accuracy: 0.8599 - val_loss: 0.8048 - val_categorical_accuracy: 0.6875\n",
      "\n",
      "Epoch 00015: saving model to model_gesture_2021-09-2915_48_41.305220/model-00015-0.51554-0.85994-0.80484-0.68750.h5\n",
      "Epoch 16/30\n",
      "21/21 [==============================] - 26s 1s/step - loss: 0.4774 - categorical_accuracy: 0.8431 - val_loss: 0.5684 - val_categorical_accuracy: 0.8125\n",
      "\n",
      "Epoch 00016: saving model to model_gesture_2021-09-2915_48_41.305220/model-00016-0.47735-0.84314-0.56836-0.81250.h5\n",
      "Epoch 17/30\n",
      "21/21 [==============================] - 27s 1s/step - loss: 0.4161 - categorical_accuracy: 0.8824 - val_loss: 1.0451 - val_categorical_accuracy: 0.6875\n",
      "\n",
      "Epoch 00017: saving model to model_gesture_2021-09-2915_48_41.305220/model-00017-0.41613-0.88235-1.04514-0.68750.h5\n",
      "Epoch 18/30\n",
      "21/21 [==============================] - 26s 1s/step - loss: 0.3358 - categorical_accuracy: 0.9048 - val_loss: 0.8898 - val_categorical_accuracy: 0.6875\n",
      "\n",
      "Epoch 00018: saving model to model_gesture_2021-09-2915_48_41.305220/model-00018-0.33583-0.90476-0.88979-0.68750.h5\n",
      "Epoch 19/30\n",
      "21/21 [==============================] - 25s 1s/step - loss: 0.2895 - categorical_accuracy: 0.9244 - val_loss: 0.6608 - val_categorical_accuracy: 0.7500\n",
      "\n",
      "Epoch 00019: saving model to model_gesture_2021-09-2915_48_41.305220/model-00019-0.28954-0.92437-0.66078-0.75000.h5\n",
      "Epoch 20/30\n",
      "21/21 [==============================] - 26s 1s/step - loss: 0.2910 - categorical_accuracy: 0.9272 - val_loss: 0.9854 - val_categorical_accuracy: 0.6250\n",
      "\n",
      "Epoch 00020: saving model to model_gesture_2021-09-2915_48_41.305220/model-00020-0.29096-0.92717-0.98541-0.62500.h5\n",
      "Epoch 21/30\n",
      "21/21 [==============================] - 26s 1s/step - loss: 0.2754 - categorical_accuracy: 0.9244 - val_loss: 0.8920 - val_categorical_accuracy: 0.6875\n",
      "\n",
      "Epoch 00021: saving model to model_gesture_2021-09-2915_48_41.305220/model-00021-0.27542-0.92437-0.89203-0.68750.h5\n",
      "\n",
      "Epoch 00021: ReduceLROnPlateau reducing learning rate to 1.9999999494757505e-06.\n",
      "Epoch 22/30\n",
      "21/21 [==============================] - 26s 1s/step - loss: 0.2327 - categorical_accuracy: 0.9468 - val_loss: 0.8057 - val_categorical_accuracy: 0.6250\n",
      "\n",
      "Epoch 00022: saving model to model_gesture_2021-09-2915_48_41.305220/model-00022-0.23270-0.94678-0.80571-0.62500.h5\n",
      "Epoch 23/30\n",
      "21/21 [==============================] - 26s 1s/step - loss: 0.2083 - categorical_accuracy: 0.9552 - val_loss: 0.8109 - val_categorical_accuracy: 0.6250\n",
      "\n",
      "Epoch 00023: saving model to model_gesture_2021-09-2915_48_41.305220/model-00023-0.20833-0.95518-0.81093-0.62500.h5\n",
      "Epoch 24/30\n",
      "21/21 [==============================] - 26s 1s/step - loss: 0.2425 - categorical_accuracy: 0.9356 - val_loss: 0.7827 - val_categorical_accuracy: 0.6875\n",
      "\n",
      "Epoch 00024: saving model to model_gesture_2021-09-2915_48_41.305220/model-00024-0.24251-0.93557-0.78272-0.68750.h5\n",
      "Epoch 25/30\n",
      "21/21 [==============================] - 26s 1s/step - loss: 0.2033 - categorical_accuracy: 0.9496 - val_loss: 0.5593 - val_categorical_accuracy: 0.6875\n",
      "\n",
      "Epoch 00025: saving model to model_gesture_2021-09-2915_48_41.305220/model-00025-0.20332-0.94958-0.55930-0.68750.h5\n",
      "Epoch 26/30\n",
      "21/21 [==============================] - 26s 1s/step - loss: 0.1735 - categorical_accuracy: 0.9720 - val_loss: 0.8918 - val_categorical_accuracy: 0.6875\n",
      "\n",
      "Epoch 00026: saving model to model_gesture_2021-09-2915_48_41.305220/model-00026-0.17353-0.97199-0.89181-0.68750.h5\n",
      "Epoch 27/30\n",
      "21/21 [==============================] - 26s 1s/step - loss: 0.1928 - categorical_accuracy: 0.9664 - val_loss: 0.7512 - val_categorical_accuracy: 0.6875\n",
      "\n",
      "Epoch 00027: saving model to model_gesture_2021-09-2915_48_41.305220/model-00027-0.19281-0.96639-0.75116-0.68750.h5\n",
      "Epoch 28/30\n",
      "21/21 [==============================] - 26s 1s/step - loss: 0.2193 - categorical_accuracy: 0.9552 - val_loss: 0.8117 - val_categorical_accuracy: 0.6875\n",
      "\n",
      "Epoch 00028: saving model to model_gesture_2021-09-2915_48_41.305220/model-00028-0.21931-0.95518-0.81169-0.68750.h5\n",
      "Epoch 29/30\n",
      "21/21 [==============================] - 25s 1s/step - loss: 0.2020 - categorical_accuracy: 0.9636 - val_loss: 0.7961 - val_categorical_accuracy: 0.6250\n",
      "\n",
      "Epoch 00029: saving model to model_gesture_2021-09-2915_48_41.305220/model-00029-0.20201-0.96359-0.79615-0.62500.h5\n",
      "Epoch 30/30\n",
      "21/21 [==============================] - 25s 1s/step - loss: 0.1735 - categorical_accuracy: 0.9664 - val_loss: 1.1390 - val_categorical_accuracy: 0.5625\n",
      "\n",
      "Epoch 00030: saving model to model_gesture_2021-09-2915_48_41.305220/model-00030-0.17351-0.96639-1.13899-0.56250.h5\n",
      "\n",
      "Epoch 00030: ReduceLROnPlateau reducing learning rate to 1.9999999949504856e-08.\n"
     ]
    },
    {
     "data": {
      "text/plain": [
       "<keras.callbacks.History at 0x7f494eb5dfd0>"
      ]
     },
     "execution_count": 45,
     "metadata": {},
     "output_type": "execute_result"
    }
   ],
   "source": [
    "model.fit_generator(train_generator, steps_per_epoch=steps_per_epoch, epochs=num_epochs, verbose=1, \n",
    "                    callbacks=callbacks_list, validation_data=val_generator, \n",
    "                    validation_steps=validation_steps, class_weight=None, workers=1, initial_epoch=0)"
   ]
  },
  {
   "cell_type": "markdown",
   "metadata": {
    "id": "pCrpIuMehMlp"
   },
   "source": [
    "#Transfer Learning"
   ]
  },
  {
   "cell_type": "markdown",
   "metadata": {
    "id": "XcCmWzi1bLjr"
   },
   "source": [
    "##Model 8\n",
    "Transfer Learning with MobileNet"
   ]
  },
  {
   "cell_type": "code",
   "execution_count": 46,
   "metadata": {
    "id": "tj2JB8Vy1gD-"
   },
   "outputs": [],
   "source": [
    "from keras.applications import mobilenet"
   ]
  },
  {
   "cell_type": "code",
   "execution_count": 53,
   "metadata": {
    "colab": {
     "base_uri": "https://localhost:8080/"
    },
    "id": "T4br3nHxtkCy",
    "outputId": "f578b47e-e069-4ca6-a6aa-db9d581b7a32"
   },
   "outputs": [
    {
     "name": "stdout",
     "output_type": "stream",
     "text": [
      "WARNING:tensorflow:`input_shape` is undefined or non-square, or `rows` is not in [128, 160, 192, 224]. Weights for input shape (224, 224) will be loaded as the default.\n",
      "Model: \"sequential_15\"\n",
      "_________________________________________________________________\n",
      "Layer (type)                 Output Shape              Param #   \n",
      "=================================================================\n",
      "time_distributed_247 (TimeDi (None, 18, 3, 3, 1024)    3228864   \n",
      "_________________________________________________________________\n",
      "time_distributed_248 (TimeDi (None, 18, 3, 3, 16)      147472    \n",
      "_________________________________________________________________\n",
      "time_distributed_249 (TimeDi (None, 18, 3, 3, 16)      64        \n",
      "_________________________________________________________________\n",
      "time_distributed_250 (TimeDi (None, 18, 2, 2, 16)      0         \n",
      "_________________________________________________________________\n",
      "time_distributed_251 (TimeDi (None, 18, 2, 2, 32)      4640      \n",
      "_________________________________________________________________\n",
      "time_distributed_252 (TimeDi (None, 18, 2, 2, 32)      128       \n",
      "_________________________________________________________________\n",
      "time_distributed_253 (TimeDi (None, 18, 1, 1, 32)      0         \n",
      "_________________________________________________________________\n",
      "time_distributed_254 (TimeDi (None, 18, 1, 1, 64)      18496     \n",
      "_________________________________________________________________\n",
      "time_distributed_255 (TimeDi (None, 18, 1, 1, 64)      256       \n",
      "_________________________________________________________________\n",
      "time_distributed_256 (TimeDi (None, 18, 1, 1, 64)      0         \n",
      "_________________________________________________________________\n",
      "time_distributed_257 (TimeDi (None, 18, 1, 1, 128)     73856     \n",
      "_________________________________________________________________\n",
      "time_distributed_258 (TimeDi (None, 18, 1, 1, 128)     512       \n",
      "_________________________________________________________________\n",
      "time_distributed_259 (TimeDi (None, 18, 1, 1, 128)     0         \n",
      "_________________________________________________________________\n",
      "time_distributed_260 (TimeDi (None, 18, 1, 1, 256)     295168    \n",
      "_________________________________________________________________\n",
      "time_distributed_261 (TimeDi (None, 18, 1, 1, 256)     1024      \n",
      "_________________________________________________________________\n",
      "time_distributed_262 (TimeDi (None, 18, 256)           0         \n",
      "_________________________________________________________________\n",
      "gru_3 (GRU)                  (None, 64)                61824     \n",
      "_________________________________________________________________\n",
      "dropout_20 (Dropout)         (None, 64)                0         \n",
      "_________________________________________________________________\n",
      "dense_20 (Dense)             (None, 64)                4160      \n",
      "_________________________________________________________________\n",
      "dropout_21 (Dropout)         (None, 64)                0         \n",
      "_________________________________________________________________\n",
      "dense_21 (Dense)             (None, 5)                 325       \n",
      "=================================================================\n",
      "Total params: 3,836,789\n",
      "Trainable params: 3,813,909\n",
      "Non-trainable params: 22,880\n",
      "_________________________________________________________________\n",
      "None\n"
     ]
    }
   ],
   "source": [
    "mobilenet_transfer = mobilenet.MobileNet(weights = 'imagenet', include_top = False)\n",
    "\n",
    "input_shape=(x,y,z,channel)\n",
    "gru_cells=64\n",
    "dense_neurons=64\n",
    "dropout=0.3\n",
    "nb_classes = 5\n",
    "\n",
    "model = Sequential()\n",
    "model.add(TimeDistributed(mobilenet_transfer,input_shape=input_shape))\n",
    "\n",
    "model.add(TimeDistributed(Conv2D(16, (3, 3) , padding='same', activation='relu'), input_shape=input_shape))\n",
    "model.add(TimeDistributed(BatchNormalization(momentum=0.8)))\n",
    "model.add(TimeDistributed(MaxPooling2D((2, 2), padding='same')))\n",
    "\n",
    "model.add(TimeDistributed(Conv2D(32, (3, 3) , padding='same', activation='relu')))\n",
    "model.add(TimeDistributed(BatchNormalization(momentum=0.8)))\n",
    "model.add(TimeDistributed(MaxPooling2D((2, 2), padding='same')))\n",
    "\n",
    "model.add(TimeDistributed(Conv2D(64, (3, 3) , padding='same', activation='relu')))\n",
    "model.add(TimeDistributed(BatchNormalization(momentum=0.8)))\n",
    "model.add(TimeDistributed(MaxPooling2D((2, 2), padding='same')))\n",
    "\n",
    "model.add(TimeDistributed(Conv2D(128, (3, 3) , padding='same', activation='relu')))\n",
    "model.add(TimeDistributed(BatchNormalization(momentum=0.8)))\n",
    "model.add(TimeDistributed(MaxPooling2D((2, 2), padding='same')))\n",
    "\n",
    "model.add(TimeDistributed(Conv2D(256, (3, 3) , padding='same', activation='relu')))\n",
    "model.add(TimeDistributed(BatchNormalization(momentum=0.8)))\n",
    "\n",
    "model.add(TimeDistributed(Flatten()))\n",
    "\n",
    "\n",
    "model.add(GRU(lstm_cells))\n",
    "model.add(Dropout(dropout))\n",
    "\n",
    "model.add(Dense(dense_neurons,activation='relu', kernel_regularizer = tf.keras.regularizers.l2(0.0001)))\n",
    "model.add(Dropout(dropout))\n",
    "\n",
    "model.add(Dense(nb_classes, activation='softmax'))\n",
    "optimiser = tf.keras.optimizers.Adam(lr=0.0002)\n",
    "model.compile(optimizer=optimiser, loss='categorical_crossentropy', metrics=['categorical_accuracy'])\n",
    "print(model.summary())"
   ]
  },
  {
   "cell_type": "code",
   "execution_count": 54,
   "metadata": {
    "colab": {
     "base_uri": "https://localhost:8080/"
    },
    "id": "mLGADB6evz5j",
    "outputId": "6c1c1efa-4abc-4bf8-9940-1dc5914f040d"
   },
   "outputs": [
    {
     "name": "stdout",
     "output_type": "stream",
     "text": [
      "WARNING:tensorflow:`period` argument is deprecated. Please use `save_freq` to specify the frequency in number of batches seen.\n",
      "WARNING:tensorflow:`epsilon` argument is deprecated and will be removed, use `min_delta` instead.\n"
     ]
    }
   ],
   "source": [
    "model_name = 'model_gesture' + '_' + str(curr_dt_time).replace(' ','').replace(':','_') + '/'\n",
    "    \n",
    "if not os.path.exists(model_name):\n",
    "    os.mkdir(model_name)\n",
    "        \n",
    "filepath = model_name + 'model-{epoch:05d}-{loss:.5f}-{categorical_accuracy:.5f}-{val_loss:.5f}-{val_categorical_accuracy:.5f}.h5'\n",
    "\n",
    "checkpoint = ModelCheckpoint(filepath, monitor='val_loss', verbose=1, save_best_only=False, save_weights_only=False, mode='auto', period=1)\n",
    "\n",
    "LR = ReduceLROnPlateau(monitor='val_loss', factor=0.01, patience=5, cooldown=4, verbose=1,mode='auto',epsilon=0.0001) # write the REducelronplateau code here\n",
    "callbacks_list = [checkpoint, LR]"
   ]
  },
  {
   "cell_type": "code",
   "execution_count": 55,
   "metadata": {
    "colab": {
     "base_uri": "https://localhost:8080/"
    },
    "id": "UzdIUAxxv0pW",
    "outputId": "312fb0a3-1163-4155-ed03-27f84640f50d"
   },
   "outputs": [
    {
     "name": "stdout",
     "output_type": "stream",
     "text": [
      "Epoch 1/30\n",
      "21/21 [==============================] - 43s 2s/step - loss: 1.7278 - categorical_accuracy: 0.1961 - val_loss: 1.6742 - val_categorical_accuracy: 0.1250\n",
      "\n",
      "Epoch 00001: saving model to model_gesture_2021-09-2915_48_41.305220/model-00001-1.72781-0.19608-1.67416-0.12500.h5\n",
      "Epoch 2/30\n",
      "21/21 [==============================] - 30s 1s/step - loss: 1.6074 - categorical_accuracy: 0.2773 - val_loss: 1.4559 - val_categorical_accuracy: 0.2500\n",
      "\n",
      "Epoch 00002: saving model to model_gesture_2021-09-2915_48_41.305220/model-00002-1.60738-0.27731-1.45594-0.25000.h5\n",
      "Epoch 3/30\n",
      "21/21 [==============================] - 33s 2s/step - loss: 1.4883 - categorical_accuracy: 0.3669 - val_loss: 1.1959 - val_categorical_accuracy: 0.6250\n",
      "\n",
      "Epoch 00003: saving model to model_gesture_2021-09-2915_48_41.305220/model-00003-1.48828-0.36695-1.19594-0.62500.h5\n",
      "Epoch 4/30\n",
      "21/21 [==============================] - 32s 2s/step - loss: 1.3836 - categorical_accuracy: 0.3978 - val_loss: 1.2160 - val_categorical_accuracy: 0.5000\n",
      "\n",
      "Epoch 00004: saving model to model_gesture_2021-09-2915_48_41.305220/model-00004-1.38362-0.39776-1.21598-0.50000.h5\n",
      "Epoch 5/30\n",
      "21/21 [==============================] - 31s 1s/step - loss: 1.2248 - categorical_accuracy: 0.5182 - val_loss: 1.0756 - val_categorical_accuracy: 0.5625\n",
      "\n",
      "Epoch 00005: saving model to model_gesture_2021-09-2915_48_41.305220/model-00005-1.22475-0.51821-1.07564-0.56250.h5\n",
      "Epoch 6/30\n",
      "21/21 [==============================] - 31s 2s/step - loss: 0.9899 - categorical_accuracy: 0.6415 - val_loss: 0.6663 - val_categorical_accuracy: 0.8125\n",
      "\n",
      "Epoch 00006: saving model to model_gesture_2021-09-2915_48_41.305220/model-00006-0.98988-0.64146-0.66631-0.81250.h5\n",
      "Epoch 7/30\n",
      "21/21 [==============================] - 32s 2s/step - loss: 0.9311 - categorical_accuracy: 0.6303 - val_loss: 0.9581 - val_categorical_accuracy: 0.6875\n",
      "\n",
      "Epoch 00007: saving model to model_gesture_2021-09-2915_48_41.305220/model-00007-0.93111-0.63025-0.95813-0.68750.h5\n",
      "Epoch 8/30\n",
      "21/21 [==============================] - 31s 1s/step - loss: 0.7362 - categorical_accuracy: 0.7591 - val_loss: 0.8811 - val_categorical_accuracy: 0.6250\n",
      "\n",
      "Epoch 00008: saving model to model_gesture_2021-09-2915_48_41.305220/model-00008-0.73624-0.75910-0.88106-0.62500.h5\n",
      "Epoch 9/30\n",
      "21/21 [==============================] - 31s 2s/step - loss: 0.7017 - categorical_accuracy: 0.7759 - val_loss: 0.4830 - val_categorical_accuracy: 0.8125\n",
      "\n",
      "Epoch 00009: saving model to model_gesture_2021-09-2915_48_41.305220/model-00009-0.70175-0.77591-0.48297-0.81250.h5\n",
      "Epoch 10/30\n",
      "21/21 [==============================] - 31s 2s/step - loss: 0.5277 - categorical_accuracy: 0.8487 - val_loss: 0.4925 - val_categorical_accuracy: 0.8125\n",
      "\n",
      "Epoch 00010: saving model to model_gesture_2021-09-2915_48_41.305220/model-00010-0.52765-0.84874-0.49254-0.81250.h5\n",
      "Epoch 11/30\n",
      "21/21 [==============================] - 30s 1s/step - loss: 0.5005 - categorical_accuracy: 0.8151 - val_loss: 0.5047 - val_categorical_accuracy: 0.7500\n",
      "\n",
      "Epoch 00011: saving model to model_gesture_2021-09-2915_48_41.305220/model-00011-0.50045-0.81513-0.50469-0.75000.h5\n",
      "Epoch 12/30\n",
      "21/21 [==============================] - 33s 2s/step - loss: 0.3351 - categorical_accuracy: 0.9076 - val_loss: 0.4997 - val_categorical_accuracy: 0.8125\n",
      "\n",
      "Epoch 00012: saving model to model_gesture_2021-09-2915_48_41.305220/model-00012-0.33508-0.90756-0.49968-0.81250.h5\n",
      "Epoch 13/30\n",
      "21/21 [==============================] - 32s 2s/step - loss: 0.3764 - categorical_accuracy: 0.8599 - val_loss: 0.8972 - val_categorical_accuracy: 0.7500\n",
      "\n",
      "Epoch 00013: saving model to model_gesture_2021-09-2915_48_41.305220/model-00013-0.37635-0.85994-0.89725-0.75000.h5\n",
      "Epoch 14/30\n",
      "21/21 [==============================] - 31s 1s/step - loss: 0.2197 - categorical_accuracy: 0.9468 - val_loss: 0.2728 - val_categorical_accuracy: 0.9375\n",
      "\n",
      "Epoch 00014: saving model to model_gesture_2021-09-2915_48_41.305220/model-00014-0.21967-0.94678-0.27277-0.93750.h5\n",
      "Epoch 15/30\n",
      "21/21 [==============================] - 31s 2s/step - loss: 0.2741 - categorical_accuracy: 0.9160 - val_loss: 0.4421 - val_categorical_accuracy: 0.8750\n",
      "\n",
      "Epoch 00015: saving model to model_gesture_2021-09-2915_48_41.305220/model-00015-0.27410-0.91597-0.44206-0.87500.h5\n",
      "Epoch 16/30\n",
      "21/21 [==============================] - 31s 2s/step - loss: 0.1973 - categorical_accuracy: 0.9552 - val_loss: 0.4490 - val_categorical_accuracy: 0.8750\n",
      "\n",
      "Epoch 00016: saving model to model_gesture_2021-09-2915_48_41.305220/model-00016-0.19727-0.95518-0.44897-0.87500.h5\n",
      "Epoch 17/30\n",
      "21/21 [==============================] - 30s 1s/step - loss: 0.1707 - categorical_accuracy: 0.9608 - val_loss: 0.3436 - val_categorical_accuracy: 0.8125\n",
      "\n",
      "Epoch 00017: saving model to model_gesture_2021-09-2915_48_41.305220/model-00017-0.17072-0.96078-0.34364-0.81250.h5\n",
      "Epoch 18/30\n",
      "21/21 [==============================] - 31s 1s/step - loss: 0.1626 - categorical_accuracy: 0.9664 - val_loss: 0.4041 - val_categorical_accuracy: 0.8125\n",
      "\n",
      "Epoch 00018: saving model to model_gesture_2021-09-2915_48_41.305220/model-00018-0.16262-0.96639-0.40414-0.81250.h5\n",
      "Epoch 19/30\n",
      "21/21 [==============================] - 31s 1s/step - loss: 0.1448 - categorical_accuracy: 0.9552 - val_loss: 0.2973 - val_categorical_accuracy: 0.9375\n",
      "\n",
      "Epoch 00019: saving model to model_gesture_2021-09-2915_48_41.305220/model-00019-0.14477-0.95518-0.29734-0.93750.h5\n",
      "\n",
      "Epoch 00019: ReduceLROnPlateau reducing learning rate to 1.9999999494757505e-06.\n",
      "Epoch 20/30\n",
      "21/21 [==============================] - 31s 1s/step - loss: 0.1533 - categorical_accuracy: 0.9692 - val_loss: 0.3164 - val_categorical_accuracy: 0.8750\n",
      "\n",
      "Epoch 00020: saving model to model_gesture_2021-09-2915_48_41.305220/model-00020-0.15333-0.96919-0.31641-0.87500.h5\n",
      "Epoch 21/30\n",
      "21/21 [==============================] - 29s 1s/step - loss: 0.1422 - categorical_accuracy: 0.9636 - val_loss: 1.0769 - val_categorical_accuracy: 0.6250\n",
      "\n",
      "Epoch 00021: saving model to model_gesture_2021-09-2915_48_41.305220/model-00021-0.14218-0.96359-1.07686-0.62500.h5\n",
      "Epoch 22/30\n",
      "21/21 [==============================] - 31s 2s/step - loss: 0.1343 - categorical_accuracy: 0.9748 - val_loss: 0.2722 - val_categorical_accuracy: 0.8750\n",
      "\n",
      "Epoch 00022: saving model to model_gesture_2021-09-2915_48_41.305220/model-00022-0.13434-0.97479-0.27221-0.87500.h5\n",
      "Epoch 23/30\n",
      "21/21 [==============================] - 30s 1s/step - loss: 0.1434 - categorical_accuracy: 0.9692 - val_loss: 0.5182 - val_categorical_accuracy: 0.7500\n",
      "\n",
      "Epoch 00023: saving model to model_gesture_2021-09-2915_48_41.305220/model-00023-0.14342-0.96919-0.51822-0.75000.h5\n",
      "Epoch 24/30\n",
      "21/21 [==============================] - 32s 2s/step - loss: 0.1187 - categorical_accuracy: 0.9804 - val_loss: 0.4748 - val_categorical_accuracy: 0.9375\n",
      "\n",
      "Epoch 00024: saving model to model_gesture_2021-09-2915_48_41.305220/model-00024-0.11872-0.98039-0.47479-0.93750.h5\n",
      "Epoch 25/30\n",
      "21/21 [==============================] - 31s 1s/step - loss: 0.1282 - categorical_accuracy: 0.9720 - val_loss: 0.1645 - val_categorical_accuracy: 0.9375\n",
      "\n",
      "Epoch 00025: saving model to model_gesture_2021-09-2915_48_41.305220/model-00025-0.12822-0.97199-0.16453-0.93750.h5\n",
      "Epoch 26/30\n",
      "21/21 [==============================] - 32s 2s/step - loss: 0.1118 - categorical_accuracy: 0.9804 - val_loss: 0.8063 - val_categorical_accuracy: 0.6875\n",
      "\n",
      "Epoch 00026: saving model to model_gesture_2021-09-2915_48_41.305220/model-00026-0.11180-0.98039-0.80631-0.68750.h5\n",
      "Epoch 27/30\n",
      "21/21 [==============================] - 31s 2s/step - loss: 0.1288 - categorical_accuracy: 0.9804 - val_loss: 0.4471 - val_categorical_accuracy: 0.8750\n",
      "\n",
      "Epoch 00027: saving model to model_gesture_2021-09-2915_48_41.305220/model-00027-0.12882-0.98039-0.44706-0.87500.h5\n",
      "Epoch 28/30\n",
      "21/21 [==============================] - 32s 2s/step - loss: 0.1623 - categorical_accuracy: 0.9608 - val_loss: 0.2933 - val_categorical_accuracy: 0.8750\n",
      "\n",
      "Epoch 00028: saving model to model_gesture_2021-09-2915_48_41.305220/model-00028-0.16229-0.96078-0.29330-0.87500.h5\n",
      "Epoch 29/30\n",
      "21/21 [==============================] - 32s 2s/step - loss: 0.1474 - categorical_accuracy: 0.9552 - val_loss: 0.5924 - val_categorical_accuracy: 0.7500\n",
      "\n",
      "Epoch 00029: saving model to model_gesture_2021-09-2915_48_41.305220/model-00029-0.14745-0.95518-0.59237-0.75000.h5\n",
      "Epoch 30/30\n",
      "21/21 [==============================] - 31s 2s/step - loss: 0.1156 - categorical_accuracy: 0.9748 - val_loss: 0.4293 - val_categorical_accuracy: 0.9375\n",
      "\n",
      "Epoch 00030: saving model to model_gesture_2021-09-2915_48_41.305220/model-00030-0.11565-0.97479-0.42932-0.93750.h5\n",
      "\n",
      "Epoch 00030: ReduceLROnPlateau reducing learning rate to 1.9999999949504856e-08.\n"
     ]
    },
    {
     "data": {
      "text/plain": [
       "<keras.callbacks.History at 0x7f493d318e10>"
      ]
     },
     "execution_count": 55,
     "metadata": {},
     "output_type": "execute_result"
    }
   ],
   "source": [
    "model.fit_generator(train_generator, steps_per_epoch=steps_per_epoch, epochs=num_epochs, verbose=1, \n",
    "                    callbacks=callbacks_list, validation_data=val_generator, \n",
    "                    validation_steps=validation_steps, class_weight=None, workers=1, initial_epoch=0)"
   ]
  },
  {
   "cell_type": "markdown",
   "metadata": {
    "id": "mrjrurcpo3E2"
   },
   "source": [
    "##Train Accuracy: 98.04%\n",
    "##Validation Accuracy: 93.75%\n",
    "\n",
    "##Train accuracy has increased, and overfitting has also reduced. Thus, CNN+GRU with MobileNet as Transfer Learning model has given the best results."
   ]
  },
  {
   "cell_type": "markdown",
   "metadata": {
    "id": "yIKLHmjCpRk2"
   },
   "source": [
    "END OF CODE"
   ]
  }
 ],
 "metadata": {
  "accelerator": "GPU",
  "colab": {
   "collapsed_sections": [],
   "name": "Neural_Nets_Project_Starter_Code_(2).ipynb",
   "provenance": []
  },
  "kernelspec": {
   "display_name": "Python 3",
   "language": "python",
   "name": "python3"
  },
  "language_info": {
   "codemirror_mode": {
    "name": "ipython",
    "version": 3
   },
   "file_extension": ".py",
   "mimetype": "text/x-python",
   "name": "python",
   "nbconvert_exporter": "python",
   "pygments_lexer": "ipython3",
   "version": "3.8.8"
  }
 },
 "nbformat": 4,
 "nbformat_minor": 1
}
